{
 "cells": [
  {
   "cell_type": "markdown",
   "metadata": {},
   "source": [
    "# CMP4272 Technical Report \n",
    "### Umaeer Hudah \n",
    "This notebook is intended to be submitted along with the word document<br>\n",
    "Each algorithm will be written in two parts. The functional algorithm, and an auxilary function that is used to display the output and further context, in order to give ease to testing \n",
    "\n"
   ]
  },
  {
   "cell_type": "code",
   "execution_count": 2,
   "metadata": {},
   "outputs": [],
   "source": [
    "#Test lists. These are a handful of lists that will be used to check the validity of the searches.\n",
    "#No repeats. Integers only, unordered\n",
    "\n",
    "testList = [1,4,7,8,5,10,14,32,3,11,23,55,17]\n",
    "#Maximum: 55, minimum: 1\n",
    "#Sorted: 1, 3, 4, 5, 7, 8, 10, 11, 14, 17, 23, 32, 55\n",
    "\n",
    "testList2 = [5,4,7,9,12,11,21,3,8]\n",
    "#Maximum: 21, minimum: 3\n",
    "#Sorted: 3, 4, 5, 7, 8, 9, 11, 12, 21\n",
    "\n",
    "testList3 = [17,21,36,41,10,23,13,5,3,39,43,2,29,1,7]\n",
    "#Maximum: 43, minimum: 1\n",
    "#Sorted: 1, 2, 3, 5, 7, 10, 13, 17, 21, 23, 29, 36, 39, 41, 43\n",
    "\n",
    "testList4 = [-2,5,7,9,-11,10,-5]\n",
    "#Maximum: 10, minimum: -11\n",
    "#Sorted: -11, -5, -2, 5, 7, 9, 10\n",
    "\n",
    "#Ordered lists\n",
    "ordList = [1,3,6,7,8,11,13,15,16,17,18,20,42,55]\n",
    "ordList2 = [32,14,11,10,8,6,5,3,2,1]\n",
    "primeList = [2,3,5,7,11,13,17,19,23,29,31,37,41,43,47,53,59,61,67,71,73,79,83,89,97]\n",
    "triangList = [0,1,3,6,10,15,21,28,36,45,55,66]"
   ]
  },
  {
   "cell_type": "markdown",
   "metadata": {},
   "source": [
    "# Searching Algorithms\n",
    "### Linear Search\n",
    "Linear Search, also known as sequential search is a method for finding an element in a given list. It works by iterating through the entire list, usaully from the starting index, until it has either exhausted the list, or has found a matching element. \n",
    "\n",
    "In the following code. We will take an input list, and a target number to look for<br>\n",
    "We will be using `testList = [1,4,7,8,5,10,14,32,3,11,23,55,17]`<br>\n",
    "We will check for __3__ which is present in the list, and __12__ which is **not present** in the list. We should expect to get different results demonstrating both cases."
   ]
  },
  {
   "cell_type": "code",
   "execution_count": 10,
   "metadata": {},
   "outputs": [
    {
     "name": "stdout",
     "output_type": "stream",
     "text": [
      "Target number: 3\n",
      "Element is present at index 8\n",
      "\n",
      "Target number: 12\n",
      "Cannot find element in the list\n"
     ]
    }
   ],
   "source": [
    "def linearSearch(inputList, target):\n",
    "    #Take in input list and target number\n",
    "    lst = inputList\n",
    "    #Iterate for length of list\n",
    "    for i in range(0, len(lst)):\n",
    "        #If an entry in the list is equal to the target:\n",
    "        if lst[i] == target:\n",
    "            return i\n",
    "    #Return if entire list has been iterated, and the target has not been found\n",
    "    return False\n",
    "\n",
    "# Formatting function\n",
    "def linearResult(returnedValue):\n",
    "    if returnedValue != False:\n",
    "        print(f'Element is present at index {returnedValue}')\n",
    "    else:\n",
    "        print(f'Cannot find element in the list')\n",
    "\n",
    "#Test cases\n",
    "print(\"Target number: 3\")       #Expecting to find number at index of 8\n",
    "linearResult(linearSearch(testList, 3))\n",
    "print(\"\\nTarget number: 12\")    #Expecting no number to be found\n",
    "linearResult(linearSearch(testList, 12))\n"
   ]
  },
  {
   "cell_type": "markdown",
   "metadata": {},
   "source": [
    "### Binary Search\n",
    "Binary Search is a method for finding an element in a given **ordered** list. It works by taking an element from the middle of the list, and comparing it to the target number.<br>\n",
    "**For an ascending list:**<br>\n",
    "If the middle element is a match, it is returned.<br>\n",
    "If the target is greater than the element, the 2nd half of the list is taken as the new input list<br>\n",
    "If the target is smaller than the element, the 1st half of the list is taken as the new input list"
   ]
  },
  {
   "cell_type": "code",
   "execution_count": 7,
   "metadata": {},
   "outputs": [
    {
     "name": "stdout",
     "output_type": "stream",
     "text": [
      "Target element has been found at index 3\n",
      "Target element has been found at index 2\n",
      "Cannot find element in list\n",
      "Invalid list\n"
     ]
    }
   ],
   "source": [
    "def binarySearch(inputList, target):\n",
    "    lst = inputList\n",
    "    low = 0\n",
    "    high = len(lst)-1\n",
    "    #Check if it is an ascending or descending list\n",
    "    if lst[0] < lst[-1]:\n",
    "        order = \"asc\"\n",
    "    elif lst[0] > lst[-1]:\n",
    "        order = \"des\"\n",
    "    else:\n",
    "        return False\n",
    "    \n",
    "    if order == \"asc\":\n",
    "        while low <= high:\n",
    "            mid = (high+low)//2\n",
    "            #Check if Mid is =, > or < target\n",
    "            if lst[mid] < target:       #If mid is greater than target, take 2nd half of list\n",
    "                low = mid+1\n",
    "            elif lst[mid] > target:     #If mid is smaller than taget, take 1st half of list    \n",
    "                high = mid-1\n",
    "            else:\n",
    "                return mid              #If mid is equal to target, return mid\n",
    "            \n",
    "    #Runs same function but with opposite comparative operators, as the list is descending\n",
    "    elif order == \"des\":\n",
    "        while low <= high:\n",
    "            mid = (high+low)//2\n",
    "            #Check if Mid is =, > or < target\n",
    "            if lst[mid] > target:       #If mid is greater than target, take 2nd half of list\n",
    "                low = mid+1\n",
    "            elif lst[mid] < target:     #If mid is smaller than taget, take 1st half of list\n",
    "                high = mid-1\n",
    "            else:\n",
    "                return mid              #If mid is equal to target, return mid\n",
    "\n",
    "    return -1\n",
    "\n",
    "def binaryResult(returnedValue):\n",
    "    if returnedValue == False:\n",
    "        print(f'Invalid list')\n",
    "    elif returnedValue == -1:\n",
    "        print(f'Cannot find element in list')\n",
    "    else:\n",
    "        print(f'Target element has been found at index {returnedValue}')\n",
    "\n",
    "#Test cases\n",
    "binaryResult(binarySearch(primeList, 7))\n",
    "binaryResult(binarySearch(ordList2, 11))\n",
    "binaryResult(binarySearch(primeList, 6)) # Should return no finding\n",
    "binaryResult(binarySearch([1, 1, 1], 1)) # Should return as not valid list"
   ]
  },
  {
   "cell_type": "markdown",
   "metadata": {},
   "source": [
    "# Sorting Algorithms\n",
    "### Selection Sort\n",
    "Selection sort is a sorting algorithm that works by seeking the smallest, or largest element in a given list. This element is then moved to the start of the list. This process is iterated until the entire list has been sorted.<br>\n",
    "The list is split into a *sorted* and *unsorted* side. As the elements are swapped, an additional list is not needed to be created. This means it is an **in-place** sorting algorithm <br>\n",
    "It is seen as an **unstable** sorting algorithm, as it can change the order of elements with the same given value<br> The following function will sort lists into ascending order."
   ]
  },
  {
   "cell_type": "code",
   "execution_count": 22,
   "metadata": {},
   "outputs": [
    {
     "name": "stdout",
     "output_type": "stream",
     "text": [
      "List before sorting: [17, 21, 36, 41, 10, 23, 13, 5, 3, 39, 43, 2, 29, 1, 7, 7]\n",
      "List after sorting: [1, 2, 3, 5, 7, 7, 10, 13, 17, 21, 23, 29, 36, 39, 41, 43]\n"
     ]
    }
   ],
   "source": [
    "def selectionSort(inputList):\n",
    "    lst = inputList\n",
    "    #For all numbers\n",
    "    for i in range(len(inputList)):\n",
    "        minIndex = i\n",
    "        #For all unsorted numbers\n",
    "        for j in range(minIndex+1, len(inputList)):\n",
    "            if lst[j] < lst[minIndex]:\n",
    "                minIndex = j\n",
    "                #Set minIndex to index of min value\n",
    "        #Swap elements in I and minimum index\n",
    "        placehold = lst[i]\n",
    "        lst[i] = lst[minIndex]\n",
    "        lst[minIndex] = placehold\n",
    "\n",
    "def selectionSortResult(inputList):\n",
    "    print(f'List before sorting: {inputList}')\n",
    "    selectionSort(inputList)\n",
    "    print(f'List after sorting: {inputList}')\n",
    "\n",
    "#Creating a new list here every time this code block is executed, so that the list is unsorted again\n",
    "testListSS = [17,21,36,41,10,23,13,5,3,39,43,2,29,1,7,7]\n",
    "selectionSortResult(testListSS)"
   ]
  },
  {
   "cell_type": "markdown",
   "metadata": {},
   "source": [
    "### Quick Sort\n",
    "Quick sort is a sorting algorithm that works by taking a **pivot** from an unsorted list (the pivot will be referred to as **X**)<br>\n",
    "Elements are then put split and put into whether they are __greater or less than X__. Forming a section of <=X and \\>X<br>\n",
    "Pivots are then taken from each segment, until a segment reaches a size of 3 or less. When a segment is at a size of 3 or less, the next pivot sorting will ensure that the segment is correctly ordered. <br>\n",
    "The following function will return an **ascending** sorted list, and use the last element as the **pivot**"
   ]
  },
  {
   "cell_type": "code",
   "execution_count": 27,
   "metadata": {},
   "outputs": [
    {
     "name": "stdout",
     "output_type": "stream",
     "text": [
      "List before sorting: [17, 21, 36, 41, 10, 2, 13, 5, 3, 39, 43, 2, 2, 1, 7, 4, 7, 32]\n",
      "List after sorting: [1, 2, 2, 2, 3, 4, 5, 7, 7, 10, 13, 17, 21, 32, 36, 39, 41, 43]\n"
     ]
    }
   ],
   "source": [
    "def quickSort(inputList):\n",
    "    #Check if segment is two or more elements.\n",
    "    if len(inputList) < 2:\n",
    "        return inputList\n",
    "    #Return single length segments\n",
    "    else:\n",
    "        pivot = inputList[0]\n",
    "        leftSeg = [x for x in inputList[1:] if x < pivot]                   #Elements which are smaller than pivot are put into the left segment\n",
    "        rightSeg = [x for x in inputList[1:] if x >= pivot]                 #Elements which are greater than pivot are put into the right segment\n",
    "        return quickSort(leftSeg) + [pivot] + quickSort(rightSeg)           #Run recursively until all values are sorted, then return\n",
    "\n",
    "def quickSortResults(inputList):\n",
    "    print(f'List before sorting: {inputList}')\n",
    "    inputList = quickSort(inputList)\n",
    "    print(f'List after sorting: {inputList}')\n",
    "\n",
    "#Creating a new list here every time the this code block is executed, so that the list is unsorted again\n",
    "testListQS = [17,21,36,41,10,2,13,5,3,39,43,2,2,1,7,4,7,32]\n",
    "\n",
    "quickSortResults(testListQS)"
   ]
  }
 ],
 "metadata": {
  "kernelspec": {
   "display_name": "Python 3",
   "language": "python",
   "name": "python3"
  },
  "language_info": {
   "codemirror_mode": {
    "name": "ipython",
    "version": 3
   },
   "file_extension": ".py",
   "mimetype": "text/x-python",
   "name": "python",
   "nbconvert_exporter": "python",
   "pygments_lexer": "ipython3",
   "version": "3.11.9"
  }
 },
 "nbformat": 4,
 "nbformat_minor": 2
}
