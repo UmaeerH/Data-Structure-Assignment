{
 "cells": [
  {
   "cell_type": "markdown",
   "metadata": {},
   "source": [
    "# CMP4272 Technical Report \n",
    "**Created by Umaeer Hudah**<br>\n",
    "This notebook is intended to be submitted along with the word document<br>\n",
    "Each algorithm will be written in two parts. The functional algorithm, and an auxilary function that is used to display the output and further context, in order to give ease to testing \n",
    "<br><br> *Please run the code block below in order to ensure the code works*<br>\n",
    "This cell contains testLists along with imports of libraries used in this assignment"
   ]
  },
  {
   "cell_type": "code",
   "execution_count": 88,
   "metadata": {},
   "outputs": [],
   "source": [
    "# LIBRARY IMPORTS\n",
    "import time\n",
    "import random\n",
    "import copy\n",
    "\n",
    "#Test lists. These are a handful of lists that will be used to check the validity of the searches.\n",
    "#No repeats. Integers only, unordered\n",
    "\n",
    "testList = [1,4,7,8,5,10,14,32,3,11,23,55,17]\n",
    "#Maximum: 55, minimum: 1\n",
    "#Sorted: 1, 3, 4, 5, 7, 8, 10, 11, 14, 17, 23, 32, 55\n",
    "\n",
    "testList2 = [5,4,7,9,12,11,21,3,8]\n",
    "#Maximum: 21, minimum: 3\n",
    "#Sorted: 3, 4, 5, 7, 8, 9, 11, 12, 21\n",
    "\n",
    "testList3 = [17,21,36,41,10,23,13,5,3,39,43,2,29,1,7]\n",
    "#Maximum: 43, minimum: 1\n",
    "#Sorted: 1, 2, 3, 5, 7, 10, 13, 17, 21, 23, 29, 36, 39, 41, 43\n",
    "\n",
    "testList4 = [-2,5,7,9,-11,10,-5]\n",
    "#Maximum: 10, minimum: -11\n",
    "#Sorted: -11, -5, -2, 5, 7, 9, 10\n",
    "\n",
    "#Ordered lists\n",
    "ordList = [1,3,6,7,8,11,13,15,16,17,18,20,42,55]\n",
    "ordList2 = [32,14,11,10,8,6,5,3,2,1]\n",
    "primeList = [2,3,5,7,11,13,17,19,23,29,31,37,41,43,47,53,59,61,67,71,73,79,83,89,97]\n",
    "triangList = [0,1,3,6,10,15,21,28,36,45,55,66]"
   ]
  },
  {
   "cell_type": "markdown",
   "metadata": {},
   "source": [
    "# Searching Algorithms"
   ]
  },
  {
   "cell_type": "markdown",
   "metadata": {},
   "source": [
    "### Linear Search\n",
    "Linear Search, also known as sequential search is a method for finding an element in a given list. It works by iterating through the entire list, usaully from the starting index, until it has either exhausted the list, or has found a matching element. \n",
    "\n",
    "In the following code. We will take an input list, and a target number to look for<br>\n",
    "We will be using `testList = [1,4,7,8,5,10,14,32,3,11,23,55,17]`<br>\n",
    "We will check for __3__ which is present in the list, and __12__ which is **not present** in the list. We should expect to get different results demonstrating both cases."
   ]
  },
  {
   "cell_type": "code",
   "execution_count": 89,
   "metadata": {},
   "outputs": [
    {
     "name": "stdout",
     "output_type": "stream",
     "text": [
      "Target number: 3\n",
      "Element is present at index 8\n",
      "\n",
      "Target number: 12\n",
      "Cannot find element in the list\n"
     ]
    }
   ],
   "source": [
    "def linearSearch(inputList, target):\n",
    "    #Take in input list and target number\n",
    "    lst = inputList\n",
    "    #Iterate for length of list\n",
    "    for i in range(0, len(lst)):\n",
    "        #If an entry in the list is equal to the target:\n",
    "        if lst[i] == target:\n",
    "            return i\n",
    "    #Return if entire list has been iterated, and the target has not been found\n",
    "    return -1\n",
    "\n",
    "# Formatting function\n",
    "def linearResult(returnedValue):\n",
    "    if returnedValue != -1:\n",
    "        print(f'Element is present at index {returnedValue}')\n",
    "    else:\n",
    "        print(f'Cannot find element in the list')\n",
    "\n",
    "#Test cases\n",
    "print(\"Target number: 3\")       #Expecting to find number at index of 8\n",
    "linearResult(linearSearch(testList, 3))\n",
    "print(\"\\nTarget number: 12\")    #Expecting no number to be found\n",
    "linearResult(linearSearch(testList, 12))\n"
   ]
  },
  {
   "cell_type": "markdown",
   "metadata": {},
   "source": [
    "### Binary Search\n",
    "Binary Search is a method for finding an element in a given **ordered** list. It works by taking an element from the middle of the list, and comparing it to the target number.<br>\n",
    "**For an ascending list:**<br>\n",
    "If the middle element is a match, it is returned.<br>\n",
    "If the target is greater than the element, the 2nd half of the list is taken as the new input list<br>\n",
    "If the target is smaller than the element, the 1st half of the list is taken as the new input list"
   ]
  },
  {
   "cell_type": "code",
   "execution_count": 90,
   "metadata": {},
   "outputs": [
    {
     "name": "stdout",
     "output_type": "stream",
     "text": [
      "Target element has been found at index 3\n",
      "Target element has been found at index 2\n",
      "Cannot find element in list\n",
      "Invalid list\n"
     ]
    }
   ],
   "source": [
    "def binarySearch(inputList, target):\n",
    "    lst = inputList\n",
    "    low = 0\n",
    "    high = len(lst)-1\n",
    "    #Check if it is an ascending or descending list\n",
    "    if lst[0] < lst[-1]:\n",
    "        order = \"asc\"\n",
    "    elif lst[0] > lst[-1]:\n",
    "        order = \"des\"\n",
    "    else:\n",
    "        return False\n",
    "    \n",
    "    if order == \"asc\":\n",
    "        while low <= high:\n",
    "            mid = (high+low)//2\n",
    "            #Check if Mid is =, > or < target\n",
    "            if lst[mid] < target:       #If mid is greater than target, take 2nd half of list\n",
    "                low = mid+1\n",
    "            elif lst[mid] > target:     #If mid is smaller than taget, take 1st half of list    \n",
    "                high = mid-1\n",
    "            else:\n",
    "                return mid              #If mid is equal to target, return mid\n",
    "            \n",
    "    #Runs same function but with opposite comparative operators, as the list is descending\n",
    "    elif order == \"des\":\n",
    "        while low <= high:\n",
    "            mid = (high+low)//2\n",
    "            #Check if Mid is =, > or < target\n",
    "            if lst[mid] > target:       #If mid is greater than target, take 2nd half of list\n",
    "                low = mid+1\n",
    "            elif lst[mid] < target:     #If mid is smaller than taget, take 1st half of list\n",
    "                high = mid-1\n",
    "            else:\n",
    "                return mid              #If mid is equal to target, return mid\n",
    "\n",
    "    return -1\n",
    "\n",
    "def binaryResult(returnedValue):\n",
    "    if returnedValue == False:\n",
    "        print(f'Invalid list')\n",
    "    elif returnedValue == -1:\n",
    "        print(f'Cannot find element in list')\n",
    "    else:\n",
    "        print(f'Target element has been found at index {returnedValue}')\n",
    "\n",
    "#Test cases\n",
    "binaryResult(binarySearch(primeList, 7))\n",
    "binaryResult(binarySearch(ordList2, 11))\n",
    "binaryResult(binarySearch(primeList, 6)) # Should return no finding\n",
    "binaryResult(binarySearch([1, 1, 1], 1)) # Should return as not valid list"
   ]
  },
  {
   "cell_type": "markdown",
   "metadata": {},
   "source": [
    "# Sorting Algorithms"
   ]
  },
  {
   "cell_type": "markdown",
   "metadata": {},
   "source": [
    "### Selection Sort\n",
    "Selection sort is a sorting algorithm that works by seeking the smallest, or largest element in a given list. This element is then moved to the start of the list. This process is iterated until the entire list has been sorted.<br>\n",
    "The list is split into a *sorted* and *unsorted* side. As the elements are swapped, an additional list is not needed to be created. This means it is an **in-place** sorting algorithm <br>\n",
    "It is seen as an **unstable** sorting algorithm, as it can change the order of elements with the same given value<br> The following function will sort lists into ascending order."
   ]
  },
  {
   "cell_type": "code",
   "execution_count": 91,
   "metadata": {},
   "outputs": [
    {
     "name": "stdout",
     "output_type": "stream",
     "text": [
      "List before sorting: [17, 21, 36, 41, 10, 23, 13, 5, 3, 39, 43, 2, 29, 1, 7, 7]\n",
      "List after sorting: [1, 2, 3, 5, 7, 7, 10, 13, 17, 21, 23, 29, 36, 39, 41, 43]\n"
     ]
    }
   ],
   "source": [
    "def selectionSort(inputList):\n",
    "    lst = inputList\n",
    "    #For all numbers\n",
    "    for i in range(len(inputList)):\n",
    "        minIndex = i\n",
    "        #For all unsorted numbers\n",
    "        for j in range(minIndex+1, len(inputList)):\n",
    "            if lst[j] < lst[minIndex]:\n",
    "                minIndex = j\n",
    "                #Set minIndex to index of min value\n",
    "        #Swap elements in I and minimum index\n",
    "        placehold = lst[i]\n",
    "        lst[i] = lst[minIndex]\n",
    "        lst[minIndex] = placehold\n",
    "    return lst\n",
    "\n",
    "def selectionSortResult(inputList):\n",
    "    print(f'List before sorting: {inputList}')\n",
    "    selectionSort(inputList)\n",
    "    print(f'List after sorting: {inputList}')\n",
    "\n",
    "#Creating a new list here every time this code block is executed, so that the list is unsorted again\n",
    "testListSS = [17,21,36,41,10,23,13,5,3,39,43,2,29,1,7,7]\n",
    "selectionSortResult(testListSS)"
   ]
  },
  {
   "cell_type": "markdown",
   "metadata": {},
   "source": [
    "### Quick Sort\n",
    "Quick sort is a sorting algorithm that works by taking a **pivot** from an unsorted list (the pivot will be referred to as **X**)<br>\n",
    "Quick sort is **in-place** and **unstable**, meaning it can change the order of elements with the same value<br>\n",
    "Elements are then put split and put into whether they are __greater or less than X__. Forming a section of <X and \\>=X<br>\n",
    "Pivots are then taken from each segment, until a segment reaches a size of 3 or less. When a segment is at a size of 3 or less, the next pivot sorting will ensure that the segment is correctly ordered. <br>\n",
    "The following function will return an **ascending** sorted list, and use the last element as the **pivot**<br>\n",
    "`testlistQS` contains duplicate numbers, to ensure integrity of function"
   ]
  },
  {
   "cell_type": "code",
   "execution_count": 92,
   "metadata": {},
   "outputs": [
    {
     "name": "stdout",
     "output_type": "stream",
     "text": [
      "List before sorting: [17, 21, 36, 41, 10, 2, 13, 5, 3, 39, 43, 2, 2, 1, 7, 4, 7, 32]\n",
      "List after sorting: [1, 2, 2, 2, 3, 4, 5, 7, 7, 10, 13, 17, 21, 32, 36, 39, 41, 43]\n"
     ]
    }
   ],
   "source": [
    "def quickSort(inputList):\n",
    "    #Check if segment is two or more elements.\n",
    "    if len(inputList) < 2:\n",
    "        return inputList\n",
    "    #Return single length segments\n",
    "    else:\n",
    "        pivot = inputList[0]\n",
    "        leftSeg = [x for x in inputList[1:] if x < pivot]                   #Elements which are smaller than pivot are put into the left segment\n",
    "        rightSeg = [x for x in inputList[1:] if x >= pivot]                 #Elements which are greater than pivot are put into the right segment\n",
    "        return quickSort(leftSeg) + [pivot] + quickSort(rightSeg)           #Run recursively until all values are sorted, then return\n",
    "\n",
    "def quickSortResults(inputList):\n",
    "    print(f'List before sorting: {inputList}')\n",
    "    inputList = quickSort(inputList)\n",
    "    print(f'List after sorting: {inputList}')\n",
    "\n",
    "#Creating a new list here every time the this code block is executed, so that the list is unsorted again\n",
    "testListQS = [17,21,36,41,10,2,13,5,3,39,43,2,2,1,7,4,7,32]\n",
    "\n",
    "quickSortResults(testListQS)"
   ]
  },
  {
   "cell_type": "markdown",
   "metadata": {},
   "source": [
    "Below are the codes for a Quick sort which takes the middle point as the pivot, and a Quick Sort which takes the last point as the pivot, respectively. These will be used during the dynamic testing found in section B\n",
    "### Quick sort (Middle)"
   ]
  },
  {
   "cell_type": "code",
   "execution_count": 104,
   "metadata": {},
   "outputs": [
    {
     "name": "stdout",
     "output_type": "stream",
     "text": [
      "List before sorting: [17, 21, 36, 41, 10, 2, 13, 5, 3, 39, 43, 2, 2, 1, 7, 4, 7, 32]\n",
      "\n",
      "List after sorting: [1, 2, 2, 2, 3, 4, 5, 7, 7, 10, 13, 17, 21, 32, 36, 39, 41, 43]\n"
     ]
    }
   ],
   "source": [
    "def quickSortMid(inputList):\n",
    "    #Check if segment is two or more elements.\n",
    "    if len(inputList) < 2:\n",
    "        return inputList\n",
    "    #Return single length segments\n",
    "    else:\n",
    "        # Find pivot point\n",
    "        pivotPoint = (len(inputList)//2)\n",
    "\n",
    "        pivot = inputList[pivotPoint]\n",
    "        leftSeg = [x for x in inputList if x < pivot]                       #Elements which are smaller than pivot are put into the left segment\n",
    "        middle = [x for x in inputList if x == pivot]\n",
    "        rightSeg = [x for x in inputList if x > pivot]                      #Elements which are greater than pivot are put into the right segment\n",
    "        return quickSortMid(leftSeg) + middle + quickSortMid(rightSeg)      #Run recursively until all values are sorted, then return\n",
    "\n",
    "def quickSortMidResults(inputList):\n",
    "    print(f'List before sorting: {inputList}')\n",
    "    inputList = quickSortMid(inputList)\n",
    "    print(f'\\nList after sorting: {inputList}')\n",
    "\n",
    "#Creating a new list here every time the this code block is executed, so that the list is unsorted again\n",
    "testListQS = [17,21,36,41,10,2,13,5,3,39,43,2,2,1,7,4,7,32]\n",
    "quickSortMidResults(testListQS)"
   ]
  },
  {
   "cell_type": "markdown",
   "metadata": {},
   "source": [
    "### Quick Sort (End)"
   ]
  },
  {
   "cell_type": "code",
   "execution_count": 101,
   "metadata": {},
   "outputs": [
    {
     "name": "stdout",
     "output_type": "stream",
     "text": [
      "List before sorting: [17, 21, 36, 41, 10, 2, 13, 5, 3, 39, 43, 2, 2, 1, 7, 4, 7, 32]\n",
      "\n",
      "List after sorting: [1, 2, 2, 2, 3, 4, 5, 7, 7, 10, 13, 17, 21, 32, 36, 39, 41, 43]\n",
      "                    [1, 2, 2, 2, 3, 4, 5, 7, 7, 10, 13, 17, 21, 32, 36, 39, 41, 43]\n"
     ]
    }
   ],
   "source": [
    "def quickSortEnd(inputList):\n",
    "    #Check if segment is two or more elements.\n",
    "    if len(inputList) < 2:\n",
    "        return inputList\n",
    "    #Return single length segments\n",
    "    else:\n",
    "        #Declare pivot as last element\n",
    "        pivot = inputList[-1]\n",
    "        leftSeg = [x for x in inputList if x < pivot]                       #Elements which are smaller than pivot are put into the left segment\n",
    "        middle = [x for x in inputList if x == pivot]\n",
    "        rightSeg = [x for x in inputList if x > pivot]                      #Elements which are greater than pivot are put into the right segment\n",
    "        return quickSortEnd(leftSeg) + middle + quickSortEnd(rightSeg)      #Run recursively until all values are sorted, then return\n",
    "\n",
    "def quickSortEndResults(inputList):\n",
    "    print(f'List before sorting: {inputList}')\n",
    "    inputList = quickSortEnd(inputList)\n",
    "    print(f'\\nList after sorting: {inputList}')\n",
    "\n",
    "#Creating a new list here every time the this code block is executed, so that the list is unsorted again\n",
    "testListQS = [17,21,36,41,10,2,13,5,3,39,43,2,2,1,7,4,7,32]\n",
    "quickSortEndResults(testListQS)\n",
    "testListQS.sort()\n",
    "print(f'                    {testListQS}')"
   ]
  },
  {
   "cell_type": "markdown",
   "metadata": {},
   "source": [
    "# Testing for correctness\n",
    "\n",
    "In this section, we will be checking all 4 algorithms in order to ensure that they work correctly, as intended.<br>\n",
    "We will compare expected results to output, use varying (i.e in size, negatives, duplicates) lists in order to ensure program integrity"
   ]
  },
  {
   "cell_type": "markdown",
   "metadata": {},
   "source": [
    "### Linear search\n",
    "We will be comparing the linear search function with a few simple lists in order to ensure that it is working as intended<br>\n",
    "First rest case will check for an correct result, and the second one will check if the expected output is given for when the target is not present"
   ]
  },
  {
   "cell_type": "code",
   "execution_count": 95,
   "metadata": {},
   "outputs": [
    {
     "name": "stdout",
     "output_type": "stream",
     "text": [
      "Expected Test Results!\n",
      "Expected Test Results!\n"
     ]
    }
   ],
   "source": [
    "#Initialising some lists\n",
    "linearList1 = [1, 2, 3, 4, 5, 6, 7]\n",
    "linearList2 = [1, 3, 5, 7, 9, 11]\n",
    "\n",
    "# Checking for 4 in the first list, which is at an index of 3\n",
    "# We will compare the returned result with an in-built python function to return the index of an object\n",
    "if linearSearch(linearList1, 4) == linearList1.index(4):\n",
    "    print(\"Expected Test Results!\")\n",
    "else:\n",
    "    print(\"Unexpected results\")\n",
    "\n",
    "# We will look for a value that is not in the list, the returned value should be -1\n",
    "if linearSearch(linearList2, 12) == -1:\n",
    "    print(\"Expected Test Results!\")\n",
    "else:\n",
    "    print(\"Unexpected results\")"
   ]
  },
  {
   "cell_type": "markdown",
   "metadata": {},
   "source": [
    "### Binary Search\n",
    "Comparing binary search function with similar test cases to the linear search.\n"
   ]
  },
  {
   "cell_type": "code",
   "execution_count": 96,
   "metadata": {},
   "outputs": [
    {
     "name": "stdout",
     "output_type": "stream",
     "text": [
      "Expected Results!\n",
      "Expected Results!\n"
     ]
    }
   ],
   "source": [
    "#Initialising some lists\n",
    "binaryList1 = [1, 2, 3, 4, 5, 6, 7]\n",
    "binaryList2 = [1, 3, 5, 7, 9, 11]\n",
    "\n",
    "# Checking for 4 in the first list, which is at an index of 3\n",
    "# We will compare the returned result with an in-built python function to return the index of an object\n",
    "if binarySearch(binaryList1, 4) == binaryList1.index(4):\n",
    "    print(\"Expected Results!\")\n",
    "else:\n",
    "    print(\"Unexpected results\")\n",
    "\n",
    "# We will look for a value t hat is not present in the list, it should return -1\n",
    "if binarySearch(binaryList2, 12) == -1:\n",
    "    print(\"Expected Results!\")\n",
    "else:\n",
    "    print(\"Unexpected results\")"
   ]
  },
  {
   "cell_type": "markdown",
   "metadata": {},
   "source": [
    "### Selection Sort\n",
    "Comparing the results of a selection sort with an already known solution<br>\n",
    "We will also compare the yielded results with Python's built-in timsort<br>\n",
    "We will use the `assert` keyword for this, which raises an `AssertionError` if the condition is not met"
   ]
  },
  {
   "cell_type": "code",
   "execution_count": 97,
   "metadata": {},
   "outputs": [
    {
     "name": "stdout",
     "output_type": "stream",
     "text": [
      "[17, 21, 36, 41, 10, 23, 13, 5, 3, 39, 43, 2, 29, 1, 7]\n",
      "[1, 2, 3, 5, 7, 10, 13, 17, 21, 23, 29, 36, 39, 41, 43]\n",
      "The list is corrected correctly\n"
     ]
    }
   ],
   "source": [
    "#We will be using testList3\n",
    "testList3 = [17,21,36,41,10,23,13,5,3,39,43,2,29,1,7]\n",
    "sorted_testList3 = copy.deepcopy(testList3)\n",
    "sorted_testList3.sort()\n",
    "sorted_testList3M = [1, 2, 3, 5, 7, 10, 13, 17, 21, 23, 29, 36, 39, 41, 43] # Manually sorted list\n",
    "\n",
    "print(testList3) # Print before sorting\n",
    "selectionSort(testList3)\n",
    "assert testList3 == sorted_testList3        # Assert function to check if the list is sorted \n",
    "print(testList3) # Print after sorting\n",
    "\n",
    "if testList3 == sorted_testList3M:          # Test against manually sorted list\n",
    "    print(\"The list is corrected correctly\")\n",
    "else:\n",
    "    print(\"The list is not sorted\")"
   ]
  },
  {
   "cell_type": "markdown",
   "metadata": {},
   "source": [
    "### Quick Sort\n",
    "Comparing the results of the Quick Sort function with a known solution<br>\n",
    "We will also compare the yielded results with Python's built-in timsort<br>\n",
    "We will use the `assert` keyword for this, which raises an `AssertionError` if the condition is not met"
   ]
  },
  {
   "cell_type": "code",
   "execution_count": 98,
   "metadata": {},
   "outputs": [
    {
     "name": "stdout",
     "output_type": "stream",
     "text": [
      "[5, 4, 7, 9, 12, 11, 21, 3, 8]\n",
      "[3, 4, 5, 7, 8, 9, 11, 12, 21]\n",
      "The list has been correctly sorted\n"
     ]
    }
   ],
   "source": [
    "#We will use testList2\n",
    "testList2 = [5,4,7,9,12,11,21,3,8]\n",
    "sorted_testList2 = copy.deepcopy(testList2)\n",
    "sorted_testList2.sort()\n",
    "sorted_testList2M = [3, 4, 5, 7, 8, 9, 11, 12, 21] # Manually sorted list \n",
    "\n",
    "\n",
    "\n",
    "print(testList2) # Print before sorting\n",
    "testList2 = quickSort(testList2)\n",
    "assert testList2 == sorted_testList2       # Assert function to check if the list is sorted \n",
    "print(testList2) # Print after sorting\n",
    "\n",
    "if testList2 == sorted_testList2M:         # Checking if the list is sorted with a manually solved test list too\n",
    "    print(\"The list has been correctly sorted\")\n",
    "else:\n",
    "    print(\"The list is not sorted\")"
   ]
  },
  {
   "cell_type": "code",
   "execution_count": 103,
   "metadata": {},
   "outputs": [
    {
     "name": "stdout",
     "output_type": "stream",
     "text": [
      "4, 3, 2, 1, "
     ]
    }
   ],
   "source": [
    "# Test for Quick Sort (End) and Quick Sort (Middle) variants \n",
    "testList2E = [5,4,7,9,12,11,21,3,8]\n",
    "testList2M = copy.deepcopy(testList2E)\n",
    "sorted_testList2M = copy.deepcopy(testList2E)\n",
    "sorted_testList2M.sort()\n",
    "\n",
    "assert quickSortMid(testList2M) == sorted_testList2M\n",
    "assert quickSortEnd(testList2E) == sorted_testList2M"
   ]
  },
  {
   "cell_type": "markdown",
   "metadata": {},
   "source": [
    "# Section B\n",
    "# Dynamic Analysis"
   ]
  },
  {
   "cell_type": "markdown",
   "metadata": {},
   "source": [
    "### Time(), deepcopy\n",
    "To dynamically test the time-efficiency of the function, we will be making use of python's `time` library, and the `time.time()` function. This will give a simple way to check the computational time the function took. <br> First we will import all the libraries needed, and create randomly generated lists of intergers with their respective lengths <br>\n",
    "The lists are generated once, and then are deepcopied to be used again, this ensures a fair test across the functions"
   ]
  },
  {
   "cell_type": "code",
   "execution_count": 99,
   "metadata": {},
   "outputs": [
    {
     "name": "stdout",
     "output_type": "stream",
     "text": [
      "[25036, 12513, 7721, 5095, 12538]\n",
      "[9434, 44739, 13293, 18260, 14546, 6988, 5628, 47794, 30851, 13670]\n",
      "[555, 1555, 26798, 9053, 7207, 3732, 2938, 41166, 35958, 32434, 45073, 38489, 7299, 11818, 8734]\n",
      "[11767, 26681, 39009, 27182, 38279, 28161, 38517, 32879, 29781, 24459, 26834, 37304, 28570, 7825, 37006, 11627, 15711, 44597, 40297, 2967, 715, 3650, 39825, 5272, 47219, 18246, 27073, 9354, 30513, 18398, 44731, 24636, 21481, 22129, 32752, 19267, 45365, 24009, 36548, 33432, 36307, 43663, 24955, 40374, 23337, 35066, 39124, 14728, 25117, 49503, 15990, 15644, 36602, 39148, 28859, 4005, 14977, 33246, 32551, 25988, 14259, 4453, 9187, 21085, 41882, 25825, 10683, 8637, 34850, 18386, 17038, 13840, 29764, 35029, 44646, 26921, 29353, 25615, 16204, 8934, 45472, 45902, 16527, 44793, 1426, 13162, 35316, 1801, 33944, 40686, 24467, 29945, 37621, 13494, 2925, 3477, 7586, 24746, 48828, 36964]\n",
      "[15999, 49305, 38238, 33278, 22345, 47146, 26323, 19828, 37660, 16470, 38259, 45605, 3476, 10813, 31266, 5499, 21935, 45263, 14689, 26025, 24189, 2761, 8827, 37451, 12015, 22640, 14997, 30967, 11542, 34802, 47264, 40685, 43858, 40934, 31462, 47769, 7973, 30841, 45263, 28672, 20033, 2653, 41151, 2090, 32270, 1483, 40766, 14171, 7108, 23465, 9680, 29321, 39541, 21547, 22408, 9440, 5268, 7588, 38080, 8419, 7626, 33959, 43213, 22308, 13824, 39024, 15688, 32091, 33579, 48403, 15479, 30562, 41237, 23843, 36359, 31346, 23901, 13964, 15525, 36678, 38349, 20439, 26206, 3221, 29143, 16899, 9469, 25278, 30978, 20584, 31037, 10812, 1886, 38747, 6154, 42690, 1877, 31150, 18137, 42079, 25627, 6796, 29913, 23684, 41443, 15010, 6054, 34828, 40490, 26491, 20237, 21060, 28278, 45871, 14238, 30645, 24923, 49395, 32494, 18133, 34342, 23239, 35880, 44791, 9556, 6859, 4981, 28970, 12245, 41862, 20205, 26208, 33065, 43306, 17654, 21687, 23474, 44059, 49441, 2388, 813, 26651, 36795, 18948, 812, 26702, 20866, 29642, 18702, 20019, 14884, 20499, 23885, 10613, 536, 45783, 3216, 14106, 39933, 36751, 32735, 22739, 1518, 12699, 34777, 31641, 9480, 43205, 29331, 37537, 37861, 33254, 30544, 35170, 41833, 38780, 43422, 33343, 5316, 17733, 10068, 29171, 25724, 19594, 884, 25021, 36064, 17677, 27401, 21769, 15539, 6903, 25192, 3203, 36773, 6602, 5196, 4922, 17691, 33093, 2930, 43417, 32604, 37175, 48757, 16192, 47227, 15782, 11255, 37673, 14493, 41564, 11086, 33710, 26634, 18329, 38699, 43455, 32206, 39366, 2902, 10485, 49899, 16030, 13943, 7421, 31941, 47794, 21846, 20738, 46616, 17567, 24345, 49668, 6191, 589, 287, 33176, 13207, 39470, 7833, 41853, 23374, 19277, 27132, 41176, 4449, 14432, 11368, 19308, 24466, 3754, 11091, 24460, 14598, 7419, 23538, 706, 13443, 49294, 18061, 41240, 29800, 2090, 48351, 5998, 40938, 6671, 40688, 12348, 23830, 26493, 9046, 46437, 41207, 2752, 25429, 11322, 49802, 41361, 2340, 2668, 22872, 43815, 14867, 17040, 24964, 3173, 18721, 34574, 33938, 28659, 1541, 38917, 18250, 14939, 20342, 22595, 4263, 8864, 16528, 3907, 24545, 6264, 37969, 34289, 28630, 32638, 10, 32501, 30753, 36085, 14327, 2256, 44676, 16047, 44322, 333, 30802, 32877, 47028, 4330, 46462, 16759, 45166, 42429, 48823, 36650, 2477, 25502, 1139, 521, 35475, 5215, 2024, 16126, 6623, 6446, 45290, 16435, 19636, 42762, 37113, 47929, 24621, 12740, 23802, 1489, 18884, 47680, 26071, 42311, 15203, 6899, 6346, 39502, 8918, 39615, 15371, 38053, 1745, 29307, 40130, 18235, 8941, 12098, 8378, 24309, 14953, 3715, 35144, 28297, 35954, 25534, 7881, 42052, 34283, 5838, 13588, 7783, 16812, 19264, 23424, 44371, 17395, 18591, 30871, 38148, 16431, 42581, 16783, 44566, 3571, 15128, 2977, 1756, 554, 26180, 3568, 33799, 17504, 39463, 24521, 49091, 1919, 703, 5925, 40761, 3011, 10774, 40080, 26596, 19413, 7531, 33328, 23333, 21879, 17699, 26563, 45851, 40710, 28378, 1101, 15278, 19136, 6478, 45440, 21522, 437, 22995, 3229, 24043, 7744, 43293, 37260, 17884, 25128, 2023, 16289, 26120, 7974, 4442, 9559, 15043, 41748, 32174, 14816, 6413, 19003, 45838, 19083, 49853, 7498, 36968, 30058, 21002, 174, 41187, 35362, 38502, 11820, 33435, 31230, 47237, 30329, 982, 34965, 10906, 38450, 8543, 49265, 32877, 47407, 23231, 35227, 9341, 5001, 22183, 44854, 27601, 24842, 3769, 26711, 26774, 8912, 15475, 26738, 43060, 36090, 12256, 49453, 33762, 32535, 8216, 29704, 21274, 26208, 10479, 23066, 46681, 46656, 25466, 10770, 32340, 37489, 27256, 16219, 31616, 11298, 20861, 45411, 6966, 5098, 8624, 2253, 4820, 47975, 2028, 14738, 44947, 25773, 25888, 8985, 26805, 20902, 25005, 45906, 42007, 17173, 21910, 43187, 47673, 44541, 43761, 39975, 19962, 21172, 15760, 43013, 31562, 37557, 33980, 9680, 7765, 36574, 20883, 49319, 29183, 30412, 4459, 24525, 27539, 48248, 31598, 33563, 4162, 14852, 44077, 4540, 11302, 17178, 9153, 28843, 39343, 16745, 40964, 3080, 10179, 38508, 14988, 19519, 2593, 39433, 34283, 45117, 14527, 4529, 10665, 32365, 3676, 36564, 15852, 32239, 3516, 16183, 9065, 36805, 6263, 20617, 4138, 30058, 18250, 42408, 27180, 32483, 39439, 27995, 24471, 42275, 32929, 6892, 39840, 30680, 40202, 27843, 40182, 17069, 24100, 6, 7538, 817, 43965, 31609, 22485, 32611, 36826, 46151, 15802, 7715, 26294, 34696, 49954, 27861, 38535, 17175, 9991, 47495, 47309, 10573, 7929, 32876, 22279, 29218, 8584, 2153, 48533, 47934, 11532, 11647, 27714, 2860, 3754, 10667, 4091, 32914, 44056, 47204, 26242, 24025, 43788, 23584, 25506, 26649, 30431, 11526, 47672, 8149, 48037, 7665, 2286, 5567, 45756, 24785, 4388, 189, 48960, 4873, 17721, 48545, 31917, 34596, 13276, 930, 21339, 7839, 40247, 29345, 21764, 25335, 14230, 1641, 7871, 1999, 5890, 31933, 2716, 32775, 890, 30307, 4175, 17743, 47055, 5406, 28263, 48831, 23822, 5727, 44365, 9075, 29730, 9787, 1228, 31676, 4497, 30488, 40128, 49699, 39674, 35324, 46475, 9304, 33701, 45086, 27207, 37376, 10079, 687, 8514, 12205, 18819, 8863, 29704, 33529, 10743, 6733, 45039, 2496, 34041, 25373, 27375, 28728, 18024, 16623, 49066, 20395, 36894, 16206, 13696, 21518, 21068, 19792, 16561, 29655, 5631, 39644, 39984, 7978, 35121, 4248, 33405, 16274, 27613, 21396, 42447, 30105, 10846, 27553, 47243, 35638, 42423, 29101, 27479, 22298, 3552, 12288, 43802, 7488, 19098, 34105, 24722, 26488, 21799, 49423, 17826, 43073, 5946, 19650, 35276, 18571, 32976, 34392, 30777, 42571, 6006, 32026, 48229, 11529, 28597, 43443, 11535, 22603, 46804, 18667, 19357, 40572, 34863, 40598, 17171, 37814, 17943, 13125, 49149, 2193, 7413, 31854, 32378, 14691, 20333, 37567, 14772, 13902, 48970, 12694, 49362, 30463, 27044, 21827, 35748, 40894, 24788, 6963, 3491, 32984, 37889, 9170, 27413, 43167, 37756, 35625, 35074, 12545, 18210, 27628, 38509, 7517, 2863, 1654, 36871, 24429, 22443, 43880, 28491, 30131, 1065, 27298, 29867, 5968, 43212, 45599, 48830, 9100, 13541, 14710, 46057, 32634, 20215, 26673, 7971, 1034, 41569, 44433, 25513, 13893, 47984, 32426, 22976, 27877, 10698, 33936, 47002, 16845, 339, 19091, 24941, 4562, 13011, 11381, 22201, 43372, 36548, 29546, 22807, 35949, 5740, 3632, 40458, 31164, 39204, 18178, 18553, 17566, 6805, 5186, 38322, 28190, 30216, 37425, 35543, 15868, 36198, 19900, 38331, 37998, 3976, 48956, 5177, 14701, 21348, 21163, 40918, 37413, 4012, 20565, 17716, 20687, 28576, 24199, 12892, 45530, 6312, 25607, 31829, 28854, 49447, 13286, 30698, 35420, 37805, 21619, 30569, 37280, 10423, 29599, 33306, 8087, 35952, 21607, 4629, 30129, 44915, 33637, 34482, 418, 41854, 19903, 41911, 3314, 36637, 39075, 44559, 6684, 21405, 14229, 45387, 14432, 14214, 146, 3912, 46549, 5356, 48585, 44556, 18010, 4033, 7578, 25009, 45789, 3484, 39525, 18533, 45958, 6341, 649, 44635, 33830, 46725, 46023, 28056, 49966, 3439, 40036, 4594, 8979, 4079, 21264, 31547, 40781, 12927, 48964, 17504, 29448, 45126, 38202, 49120, 40316, 48778, 46900, 40485, 19441, 38378]\n",
      "[13196, 16258, 32466, 27122, 3857, 32243, 45254, 28353, 46794, 25979, 46706, 41487, 47521, 18263, 1179, 4677, 29874, 31484, 40929, 12953, 31490, 11332, 8274, 36945, 46968, 5882, 34285, 14756, 6762, 47218, 11380, 13578, 49487, 28003, 26360, 16818, 42400, 38838, 19282, 33264, 48605, 35037, 9241, 20208, 27207, 20236, 31663, 42380, 16427, 41519, 29950, 13009, 1870, 44865, 31743, 43613, 31417, 12017, 31869, 19715, 22314, 8352, 3928, 17318, 20526, 45620, 43934, 25950, 35446, 19059, 23415, 39581, 47886, 20920, 34970, 46011, 8756, 22141, 37754, 31754, 11726, 20250, 10146, 1286, 45020, 48548, 47576, 41230, 34359, 28956, 17959, 32141, 31313, 38337, 29019, 7828, 5558, 47841, 46486, 42073, 1599, 39044, 32963, 4243, 47006, 7399, 25040, 1825, 49321, 10028, 41660, 15988, 43205, 44043, 151, 30537, 38386, 2273, 22309, 41108, 18798, 26093, 28812, 45134, 46096, 15459, 21139, 38555, 3918, 10374, 33571, 7958, 6474, 16643, 9606, 36957, 2935, 33145, 26534, 24118, 25292, 5392, 40515, 36998, 39510, 45025, 15627, 44897, 2104, 44597, 8122, 13820, 17709, 30147, 37097, 22249, 37239, 6710, 30186, 33427, 40219, 350, 13217, 47977, 40094, 34741, 8660, 32045, 37549, 24951, 35285, 9204, 18735, 39742, 37853, 14332, 35542, 933, 3031, 13306, 5488, 28138, 45074, 28153, 17095, 4763, 34773, 26379, 19513, 21921, 16515, 16754, 14226, 47875, 19689, 8547, 2557, 6899, 39809, 1236, 11620, 29467, 36746, 47644, 24343, 30968, 32285, 41377, 20891, 35816, 35971, 40759, 11526, 38969, 13585, 4451, 43898, 3505, 16010, 17675, 29101, 42145, 6748, 46711, 21571, 19904, 4637, 17908, 11584, 6275, 39985, 7362, 11246, 40433, 4812, 47472, 15504, 24544, 48877, 4419, 993, 11671, 34595, 47954, 2199, 41587, 37543, 8477, 20850, 15860, 49517, 40253, 37810, 8892, 10254, 1065, 21718, 8838, 23133, 49985, 47264, 31780, 3183, 47983, 32425, 19907, 32396, 39251, 43527, 7399, 2725, 31512, 42365, 31543, 45287, 10253, 18002, 5661, 19373, 40965, 15405, 17893, 26103, 45175, 10244, 78, 12465, 45043, 4644, 49062, 27432, 44164, 24458, 13708, 42671, 36425, 38190, 4968, 4110, 16056, 30919, 6371, 36368, 16959, 32070, 262, 32615, 13493, 17615, 7205, 44186, 38970, 32312, 12718, 37706, 3781, 44072, 32603, 29194, 15267, 47367, 41066, 12324, 26886, 43205, 35080, 41457, 40194, 9004, 14750, 2497, 2025, 15252, 8007, 29938, 4167, 33986, 18302, 13734, 15262, 514, 7561, 28963, 13051, 18305, 33054, 37687, 20905, 27465, 16402, 14737, 5608, 25338, 16488, 17902, 41002, 35897, 29245, 8818, 44060, 10161, 15706, 33992, 27733, 46889, 4362, 2862, 812, 7984, 11787, 45747, 42258, 23443, 17777, 25085, 3449, 6008, 6484, 18068, 44169, 36415, 34438, 37208, 4998, 32544, 13836, 13559, 23627, 44167, 25567, 44362, 48879, 45916, 9493, 11236, 10423, 39820, 486, 25079, 3312, 34710, 35833, 15616, 26149, 47165, 12645, 26743, 884, 32042, 862, 22957, 3747, 34085, 39440, 14440, 1536, 9374, 16278, 15330, 22465, 24435, 21987, 29547, 46004, 7428, 29867, 36382, 26271, 42318, 38786, 38758, 10007, 15065, 9889, 26384, 49105, 17939, 48312, 42436, 33301, 12303, 19440, 15918, 44993, 18600, 26256, 32011, 17239, 6510, 7532, 39753, 27293, 27539, 7734, 47038, 32141, 28831, 22277, 17539, 43519, 36302, 44709, 45309, 13038, 24587, 5083, 18668, 35650, 33403, 27459, 23460, 2045, 29350, 27328, 23642, 34113, 45943, 18512, 4741, 30316, 36842, 15596, 35075, 23851, 43325, 30840, 27753, 45625, 26836, 1910, 38631, 405, 26846, 10543, 29972, 47789, 42504, 16653, 43815, 13777, 13977, 7462, 25219, 14267, 17238, 14918, 25783, 15392, 33595, 10157, 6480, 25747, 14151, 30125, 18811, 15840, 22434, 27650, 24082, 35932, 22958, 20976, 8117, 2195, 20849, 10851, 46120, 17386, 24798, 10436, 2035, 12858, 13250, 40341, 41253, 13934, 3219, 45098, 12370, 19310, 48017, 46089, 48371, 5568, 17507, 44183, 45657, 1833, 21077, 23753, 18836, 6600, 18541, 44771, 43170, 6082, 39045, 21491, 2641, 37847, 42340, 26139, 12047, 30150, 12993, 9731, 1201, 29717, 32533, 40049, 5805, 29321, 38229, 40420, 15656, 42232, 8188, 28819, 48907, 16683, 14049, 38914, 22034, 31088, 38858, 13759, 15067, 40645, 36932, 48684, 31885, 29456, 34773, 13925, 15953, 1434, 21848, 29514, 26803, 1631, 15316, 23102, 28703, 5696, 36332, 48534, 49750, 6144, 27541, 29006, 7763, 12947, 31096, 15345, 20776, 34166, 33736, 29920, 3789, 12157, 35779, 17019, 46842, 8363, 11743, 25114, 41034, 26593, 11761, 46079, 15849, 350, 33471, 33067, 15741, 12601, 27511, 16508, 48253, 37452, 12040, 460, 18502, 48498, 19543, 43723, 24573, 2295, 23389, 42595, 19436, 25529, 43361, 47424, 42142, 15915, 42065, 19580, 44080, 28661, 17310, 25829, 25284, 15190, 21914, 12919, 34879, 44407, 31533, 10168, 42554, 43554, 39997, 34531, 30758, 15405, 29173, 37608, 9756, 25893, 42415, 33424, 37242, 3474, 35362, 12571, 5786, 36440, 5740, 21167, 38920, 18584, 16747, 43831, 20965, 38039, 23762, 42612, 4900, 19679, 37023, 7164, 22737, 24509, 4581, 34029, 17551, 31346, 23646, 22621, 25482, 21987, 8245, 23593, 41174, 33728, 26640, 16921, 25924, 24962, 14378, 31987, 28550, 34594, 16347, 17967, 11789, 4426, 7933, 40565, 27617, 12919, 6569, 12907, 4142, 35689, 17489, 9757, 47243, 33170, 18803, 11304, 742, 1042, 43013, 27954, 23041, 7925, 38825, 39325, 16293, 549, 4864, 32985, 27590, 2214, 14367, 5236, 7061, 5434, 46237, 34598, 9036, 20804, 16212, 46909, 40524, 44828, 42319, 19287, 29068, 13186, 21379, 19877, 10246, 4370, 797, 31657, 18064, 3840, 11892, 20127, 43291, 45544, 12971, 46174, 14697, 11614, 43665, 32433, 16973, 15946, 43596, 24597, 49664, 2382, 6033, 1747, 37728, 29217, 37169, 6512, 28856, 5761, 11030, 10411, 30460, 24718, 18274, 41870, 49502, 1612, 44510, 18029, 40113, 1703, 20709, 9668, 21786, 24977, 2519, 31038, 23971, 49347, 42152, 13046, 33299, 9075, 22245, 19000, 25309, 29699, 16839, 45466, 24136, 44996, 22049, 48291, 13036, 6063, 36410, 36379, 16865, 1765, 30722, 36063, 47382, 22250, 19242, 9421, 26144, 29245, 9603, 47046, 35441, 27920, 37635, 6168, 316, 7553, 2796, 36026, 36867, 40877, 40487, 8896, 39542, 45961, 36732, 2957, 788, 11675, 20359, 4421, 31959, 26553, 31628, 20538, 7163, 7826, 3254, 6871, 26857, 34693, 41931, 4352, 22353, 16519, 49323, 17727, 33455, 14190, 23042, 14563, 4680, 12514, 5430, 44613, 17670, 36391, 1852, 20400, 30838, 18452, 4468, 25087, 36890, 44098, 2104, 30210, 43676, 48978, 29613, 41592, 14595, 16072, 22809, 27585, 13913, 25957, 10735, 7689, 13360, 45843, 13067, 33552, 43990, 33461, 44472, 31389, 16290, 23546, 32167, 32656, 43440, 18105, 18815, 2907, 23108, 20653, 7678, 19074, 41925, 46567, 13716, 15916, 45811, 48206, 33827, 15115, 30024, 15518, 6967, 11333, 48194, 2700, 4670, 37169, 3534, 35511, 39934, 20855, 14216, 14776, 43150, 41952, 1984, 49475, 17926, 36773, 29896, 20110, 43583, 31005, 12673, 19724, 34450, 36975, 20700, 28576, 46406, 18858, 4219, 16977, 33309, 5511, 27331, 17965, 25524, 47144, 4052, 13658, 15988, 1164, 425, 5139, 31553, 3372, 6925, 333, 32181, 35221, 22189, 12722, 30105, 5292, 35622, 16261, 32219, 12942, 45004, 30675, 33474, 2696, 31872, 9676, 426, 49747, 24185, 20380, 14622, 40505, 32406, 339, 33841, 38283, 40756, 23973, 11105, 41647, 21612, 8476, 6749, 8627, 20126, 44450, 44577, 1009, 21153, 31901, 11792, 9593, 49444, 26492, 39178, 13676, 17667, 10674, 27593, 38896, 1706, 21458, 8827, 37570, 34917, 3701, 43074, 40542, 45640, 13857, 31385, 14667, 19032, 7005, 36062, 1141, 17872, 24927, 6208, 42644, 27175, 32719, 36894, 10102, 2207, 9454, 15459, 45127, 13209, 7952, 37859, 35859, 46228, 44860, 41535, 46913, 21819, 10798, 19004, 10161, 7168, 45236, 37291, 21911, 38886, 20123, 2754, 15643, 18515, 11757, 25089, 36080, 3238, 45682, 15453, 34478, 31133, 19467, 7543, 26586, 25302, 32453, 42299, 28058, 43838, 1754, 12770, 49849, 49817, 28807, 31315, 35672, 44200, 44996, 48958, 30530, 28904, 9479, 12217, 1971, 15226, 39178, 15570, 12049, 38284, 26651, 3758, 37035, 24160, 30767, 38130, 23901, 24958, 35487, 12684, 47917, 34079, 90, 32388, 692, 1238, 8166, 15242, 48146, 43392, 1349, 12296, 16961, 4180, 46236, 27868, 10957, 32798, 24387, 31640, 12256, 38718, 10722, 16445, 28188, 34146, 24279, 46590, 8365, 21209, 18465, 29376, 20604, 19972, 8710, 5317, 24016, 18276, 2877, 24921, 9751, 1008, 16742, 31156, 4130, 47466, 30037, 24214, 18548, 3266, 45279, 14868, 47591, 11066, 37232, 1259, 2348, 45780, 36453, 43802, 30971, 33699, 17172, 3562, 20531, 266, 49505, 36872, 1826, 27617, 37670, 32470, 22250, 37000, 45038, 28802, 20266, 43558, 16363, 18912, 44495, 30962, 19517, 43027, 44565, 35746, 6214, 6879, 19387, 15645, 28300, 38454, 29116, 9405, 7598, 3210, 47156, 29842, 557, 37323, 17120, 19884, 46121, 8155, 28558, 13580, 6292, 36161, 38057, 17420, 26714, 45415, 19123, 10085, 19471, 7545, 40725, 1378, 16454, 40634, 7244, 1232, 31811, 30915, 23721, 24138, 32114, 23535, 15209, 46060, 31573, 34327, 31066, 19406, 27641, 19112, 6623, 40768, 29288, 17807, 12563, 13687, 2275, 25513, 22462, 42120, 16398, 38493, 44368, 49805, 15248, 47601, 14546, 9468, 46046, 23381, 47360, 27289, 11872, 8611, 45659, 39245, 43756, 44398, 21301, 27857, 7554, 17596, 14672, 35220, 21291, 39196, 5639, 2358, 32322, 36944, 11032, 5098, 46086, 35574, 12944, 920, 33301, 38184, 34018, 16538, 27516, 48655, 34350, 6316, 19799, 28087, 41869, 27361, 12620, 633, 1501, 47962, 17918, 40510, 47084, 18479, 6734, 11171, 33043, 37458, 24174, 46685, 9845, 8791, 33065, 9634, 33206, 36460, 29802, 29866, 8006, 44606, 12466, 35900, 46667, 30341, 45901, 47264, 33789, 5955, 46200, 34662, 30642, 24749, 43526, 35398, 20627, 39448, 28430, 22714, 34704, 38991, 20918, 42763, 42932, 45870, 48650, 41194, 39821, 13111, 12770, 6134, 29656, 31371, 28213, 1637, 43778, 16564, 37520, 25702, 34206, 35076, 4860, 2874, 26003, 741, 18534, 12087, 16266, 5378, 41307, 9984, 5601, 40352, 47789, 45864, 23932, 10321, 34283, 6324, 15758, 1050, 28114, 6661, 13477, 17902, 11966, 2431, 560, 41601, 17355, 696, 1642, 32493, 18953, 38421, 14805, 36677, 440, 18915, 39900, 14457, 1927, 29955, 26305, 9, 22825, 14287, 25689, 19409, 38548, 11365, 20707, 25608, 24698, 31076, 27017, 12455, 38899, 36104, 23752, 36864, 8442, 273, 8643, 7281, 30618, 37115, 9472, 6890, 11758, 7341, 810, 32551, 46101, 13949, 26748, 29015, 47604, 31038, 27815, 27108, 42042, 36790, 26832, 47167, 43457, 4690, 36127, 20586, 20655, 49699, 48299, 48325, 27170, 2023, 3849, 13498, 6924, 25016, 19246, 29019, 14900, 2129, 7859, 5612, 24043, 26413, 16256, 35441, 33174, 4542, 1941, 91, 22681, 41329, 12177, 42478, 34345, 14928, 45825, 42029, 19618, 33397, 16733, 25999, 35994, 43054, 13224, 4546, 9747, 31150, 47971, 15728, 38229, 41906, 9284, 21574, 16132, 39381, 15019, 25014, 49724, 39864, 6759, 39509, 303, 18745, 10085, 2294, 13450, 20034, 2847, 25784, 32311, 17367, 24203, 24627, 5594, 36309, 4983, 34691, 31920, 3297, 11069, 11588, 39113, 44806, 14092, 40513, 2008, 14590, 10282, 1315, 42870, 4096, 15500, 3923, 48794, 18051, 17518, 30004, 36874, 45254, 9439, 25669, 1022, 40879, 45934, 25312, 7750, 30971, 22454, 26940, 505, 38456, 10453, 1632, 24087, 19326, 29356, 13081, 49947, 46364, 710, 29786, 46769, 38491, 40874, 28250, 40190, 19800, 16622, 14368, 12780, 3499, 44924, 25416, 44487, 33214, 14096, 10609, 46740, 28162, 20491, 19392, 34794, 49037, 37288, 33115, 29946, 43453, 39517, 22154, 15285, 10742, 21367, 25222, 313, 8355, 23775, 20410, 718, 26346, 9957, 8404, 35354, 12678, 23201, 11327, 46358, 10003, 4332, 21004, 13045, 10856, 10714, 24367, 34159, 33693, 48078, 30254, 30356, 13253, 26784, 49207, 13861, 23035, 18116, 6035, 10150, 16506, 20379, 9190, 46578, 37600, 10306, 19999, 30196, 25632, 6278, 4144, 35018, 44572, 48185, 46203, 4866, 35317, 13905, 2244, 6124, 16299, 45850, 15585, 6342, 19952, 25103, 8088, 25551, 28448, 21774, 48929, 46229, 23467, 19549, 13368, 37440, 19545, 13202, 5488, 35920, 14421, 38546, 26409, 12118, 37224, 1160, 10624, 40051, 10658, 17366, 6133, 41932, 46098, 33914, 11168, 25165, 45373, 15087, 11576, 37229, 39338, 13745, 43000, 10818, 17212, 47426, 26160, 38873, 1457, 47330, 23207, 26318, 10337, 42546, 15605, 18802, 30512, 19328, 47472, 46379, 20253, 33847, 34785, 38938, 24023, 6285, 9958, 16281, 4195, 9542, 42319, 26691, 37196, 26651, 34731, 28739, 47084, 38914, 353, 41331, 30226, 30872, 40513, 19322, 23594, 38727, 46679, 25204, 19199, 30257, 4250, 19608, 28057, 17417, 22041, 5445, 10372, 22026, 872, 5276, 2256, 21456, 14383, 33918, 28897, 32837, 48428, 45497, 29883, 27870, 36340, 38509, 37231, 32618, 27263, 25694, 24848, 21051, 1852, 46527, 24930, 38219, 39486, 10490, 34960, 48194, 47078, 7869, 5618, 36174, 47521, 2144, 6229, 13002, 49472, 19702, 21723, 20323, 38887, 26760, 41904, 27869, 4173, 27792, 11552, 19794, 28682, 1925, 29377, 46858, 10228, 2027, 43614, 38323, 32856, 1108, 31394, 12573, 46853, 23834, 15026, 3912, 11226, 19748, 7451, 43515, 23592, 12549, 39639, 43963, 2708, 2586, 11543, 9083, 28586, 2042, 10364, 12663, 48397, 29129, 10345, 20944, 47411, 323, 46198, 35288, 38204, 17238, 17001, 19866, 15149, 3084, 33841, 25842, 44116, 22006, 35795, 19497, 43039, 7247, 6449, 37928, 11294, 21632, 39525, 43484, 34086, 6826, 3215, 14770, 27082, 12259, 9999, 41126, 34765, 48104, 31205, 14199, 44644, 34441, 29420, 48238, 31187, 17168, 37404, 1811, 45775, 5469, 39353, 43692, 49368, 37768, 4473, 3407, 44392, 24639, 44074, 31436, 7147, 9685, 31458, 17445, 29836, 48418, 44426, 21012, 24482, 42758, 13755, 21835, 19672, 22688, 47020, 38936, 3624, 13293, 25878, 22786, 31063, 30115, 38194, 4275, 44251, 19897, 33202, 34202, 46253, 12482, 44422, 4387, 47342, 15637, 22569, 13844, 45753, 45375, 27913, 10153, 43841, 22818, 44174, 30936, 46995, 13788, 3064, 2730, 36971, 35556, 24860, 31514, 16671, 23338, 34776, 32137, 15988, 1640, 41870, 40785, 25634, 3366, 5298, 37874, 29324, 29055, 40695, 13434, 521, 12297, 17197, 33018, 20793, 1347, 12005, 3988, 6171, 5102, 47806, 37282, 3469, 721, 42597, 17244, 26717, 21099, 48815, 9141, 10200, 28321, 4645, 5052, 45553, 25356, 32249, 47610, 16895, 29059, 33596, 12693, 48215, 30314, 17673, 16014, 2420, 5215, 21320, 24805, 11612, 20403, 5989, 372, 21864, 37251, 35697, 46821, 39053, 36179, 44434, 9728, 20197, 442, 32786, 23983, 28558, 48233, 35887, 109, 24724, 32929, 28546, 14070, 22612, 8483, 47796, 15345, 43620, 17322, 15038, 14887, 4483, 36356, 18992, 39660, 20902, 20192, 16386, 20134, 30118, 28869, 4382, 26754, 10630, 38168, 2561, 26895, 35649, 13316, 44080, 47217, 14364, 31048, 20529, 31562, 12683, 30624, 10648, 41743, 21268, 21206, 21116, 26295, 48812, 15103, 28893, 12021, 19853, 29170, 698, 38256, 25598, 30060, 43484, 16154, 20062, 6147, 5257, 16248, 35692, 15788, 9444, 33780, 23348, 20020, 33760, 39093, 40615, 28007, 1222, 41805, 20722, 28907, 36745, 2666, 42639, 46032, 35207, 13168, 19184, 12829, 11355, 13307, 19105, 15233, 29207, 24816, 41615, 29937, 7727, 43734, 31130, 29748, 14613, 2367, 37889, 23580, 17971, 6131, 34039, 37611, 4598, 43624, 16657, 29881, 31336, 3956, 33843, 49621, 46429, 6123, 18219, 26660, 31276, 33120, 5569, 43421, 22101, 42498, 47262, 4474, 45603, 3827, 27349, 16560, 36843, 8363, 48443, 14380, 49562, 48116, 26252, 10005, 25167, 2479, 16417, 5677, 15427, 16498, 17881, 47632, 10094, 25122, 18909, 461, 35538, 41805, 9061, 30566, 45071, 36241, 44979, 19498, 15334, 21175, 28566, 17835, 9832, 39950, 35312, 17354, 36512, 37329, 45695, 19284, 17388, 24151, 15504, 2622, 38295, 48388, 37882, 41623, 2410, 23879, 25855, 27189, 4064, 15681, 10912, 25973, 13218, 31453, 30999, 82, 4489, 15476, 49322, 1032, 43512, 22477, 38724, 47394, 33937, 33694, 18324, 47871, 24639, 30905, 12791, 9218, 16595, 21575, 44960, 27701, 5691, 13959, 43967, 48761, 25602, 12412, 9044, 41408, 21783, 21038, 14893, 11566, 33773, 16531, 7424, 37273, 25746, 9684, 21250, 22233, 23556, 35250, 36050, 7391, 15287, 261, 10445, 21753, 19179, 42098, 16519, 36212, 30194, 5118, 16373, 27261, 23259, 29287, 21671, 789, 11548, 37552, 44614, 28770, 30344, 47082, 33369, 44684, 9413, 23533, 12654, 6132, 23612, 23464, 439, 19786, 9640, 35369, 14378, 46605, 13080, 10967, 34417, 10385, 49015, 20621, 1650, 40812, 43576, 12642, 43660, 45112, 12151, 24147, 10415, 12706, 45984, 16378, 25175, 42547, 44554, 34959, 1922, 48493, 45008, 6549, 19283, 45212, 49325, 22810, 48067, 13281, 27210, 38190, 36090, 49433, 6603, 31222, 11009, 42913, 44961, 18669, 5400, 13331, 41316, 37391, 5355, 2757, 18362, 16889, 44667, 34149, 26096, 26357, 18884, 39964, 12198, 26326, 27941, 15008, 16224, 34637, 30488, 46202, 41995, 26036, 13229, 9484, 2580, 43594, 30962, 31550, 22664, 25757, 27120, 3637, 3605, 19878, 10658, 44390, 10444, 47488, 44820, 43399, 13987, 43726, 35622, 12968, 46401, 46031, 12526, 34666, 33566, 16981, 36967, 45083, 313, 4618, 13664, 13704, 20198, 37015, 31694, 38545, 36700, 46050, 6426, 45847, 34689, 16950, 30755, 29758, 37700, 26032, 26708, 36261, 7950, 1912, 6838, 44548, 35359, 1007, 24659, 37883, 1618, 32064, 41559, 38546, 43005, 42327, 17680, 21089, 34300, 38803, 9766, 41908, 36673, 6676, 1296, 14732, 26344, 26656, 43949, 47520, 27310, 12186, 24435, 1093, 31662, 14896, 25316, 35750, 12829, 1145, 5574, 15436, 36909, 41798, 7364, 16282, 19333, 14788, 31402, 10045, 2876, 49571, 27192, 16168, 133, 45901, 31217, 43165, 49615, 20375, 26098, 35120, 49434, 41447, 41995, 46780, 2600, 21289, 19871, 28403, 5980, 27138, 45573, 42872, 26991, 39633, 13509, 18207, 37425, 38210, 20167, 50000, 45283, 22466, 34960, 16860, 33255, 31174, 13948, 6995, 30567, 3876, 33519, 33638, 47563, 36025, 37838, 2917, 624, 26756, 40791, 10821, 32112, 22736, 10227, 10883, 9746, 44678, 45273, 30272, 49754, 36053, 30546, 16523, 29740, 11780, 21610, 7145, 31250, 49123, 33250, 41676, 14463, 16107, 5612, 49859, 22481, 20231, 26447, 18892, 25476, 14671, 33694, 1248, 17395, 15642, 4406, 4336, 42138, 1595, 11375, 20302, 43658, 36693, 3223, 3742, 5668, 49323, 23766, 37212, 28156, 19703, 41442, 5755, 14569, 22577, 44952, 26474, 26404, 30431, 7623, 5295, 26319, 41663, 45147, 20430, 5769, 20365, 13427, 11496, 47186, 8461, 31764, 547, 26016, 22600, 38321, 6585, 13826, 3235, 7487, 33029, 4962, 17763, 38449, 41618, 6057, 45584, 35981, 32639, 31164, 37949, 13163, 26689, 23529, 15577, 10763, 12912, 17754, 43217, 40126, 16417, 6577, 19440, 35729, 35955, 16836, 14767, 11228, 37470, 5824, 39098, 48728, 17084, 18852, 33063, 31447, 7845, 6283, 37376, 24658, 37592, 33797, 27589, 38020, 6149, 44011, 48304, 5208, 36439, 10994, 12775, 39247, 46054, 33999, 3813, 25427, 577, 42608, 40175, 16665, 5245, 1207, 37238, 48010, 3424, 30398, 30271, 31239, 49099, 29373, 40583, 31359, 26360, 16404, 17968, 41801, 28285, 41501, 33856, 8182, 46104, 40950, 47515, 3040, 44433, 38302, 20988, 17877, 40812, 44120, 5932, 14642, 40654, 31086, 29100, 7826, 9207, 13790, 13563, 33019, 23246, 21568, 357, 35892, 28877, 21412, 38889, 38003, 34276, 34078, 41008, 18225, 39742, 3756, 39645, 8110, 7590, 21038, 4148, 20552, 16203, 16652, 44008, 30791, 47097, 182, 42784, 30343, 11762, 39529, 4352, 2982, 19473, 45523, 933, 26954, 23037, 47125, 12950, 25335, 42088, 9297, 28836, 14574, 10562, 23113, 29208, 18009, 2765, 32877, 17843, 32638, 37499, 37804, 21221, 1414, 3713, 6659, 6549, 17173, 42203, 21419, 15083, 45909, 15335, 39189, 27623, 30888, 28863, 20733, 23459, 12276, 19566, 9208, 42261, 33804, 44724, 42652, 42429, 36925, 27558, 29388, 5985, 27968, 13625, 20731, 10733, 18168, 27132, 38223, 43250, 32779, 15430, 21624, 40543, 33384, 9149, 35096, 47172, 23646, 24840, 46136, 33243, 30792, 38342, 46074, 35546, 31361, 12759, 22217, 30666, 37090, 13360, 21787, 15474, 30240, 2899, 23529, 12555, 11739, 16611, 43218, 4927, 41076, 41346, 35762, 6004, 291, 18641, 35448, 28989, 23256, 49931, 9192, 32733, 28451, 46492, 11410, 49404, 2700, 1166, 37809, 46909, 24119, 41422, 10422, 2642, 4437, 26865, 20698, 23767, 43284, 1288, 21123, 20745, 43458, 28645, 17507, 33424, 10789, 635, 16787, 27975, 8112, 46085, 29990, 27452, 7226, 47887, 43685, 34265, 23374, 47616, 9611, 16820, 43282, 1413, 22743, 47446, 41195, 23953, 48101, 16570, 25882, 31688, 10376, 12982, 30238, 48397, 25783, 18078, 36338, 4132, 46158, 30688, 33184, 14508, 41439, 4556, 35377, 45194, 11700, 5423, 753, 32195, 31082, 9821, 28847, 3764, 21661, 39826, 34949, 6449, 28246, 9495, 1320, 19074, 32102, 9564, 18464, 38360, 21, 24438, 28031, 15450, 34117, 5638, 40402, 22223, 10225, 7514, 15366, 39785, 26389, 20835, 622, 31761, 929, 18, 44767, 6588, 16444, 11044, 16450, 32152, 28637, 41717, 40745, 13276, 5428, 28446, 42562, 11702, 5018, 11120, 10387, 21415, 40383, 4516, 12844, 13651, 37135, 30758, 10383, 42832, 31299, 14694, 990, 12852, 24787, 34805, 31474, 40483, 22016, 27510, 26784, 20002, 6773, 41996, 27713, 26093, 33047, 25567, 3271, 14922, 13581, 27709, 43932, 37794, 38474, 25152, 42460, 41382, 42316, 36408, 2873, 38369, 34536, 22987, 27424, 11390, 26016, 33925, 25394, 8462, 44962, 49237, 6892, 32992, 37355, 28103, 30628, 3141, 21411, 8017, 47974, 31897, 48803, 25231, 23066, 29828, 13361, 49312, 12006, 27178, 13355, 39505, 39662, 19120, 16579, 38309, 9178, 37993, 5311, 7964, 43213, 44079, 40402, 3451, 29196, 41101, 23089, 12996, 28550, 34994, 25780, 20071, 14229, 43417, 46128, 41277, 22528, 24279, 23425, 33461, 25125, 29094, 21084, 21419, 38115, 48502, 28503, 11677, 25316, 16141, 37875, 40697, 10954, 41230, 40723, 26207, 29251, 4494, 44669, 48016, 27541, 43686, 17707, 23019, 36939, 13617, 26636, 38133, 17544, 6637, 41708, 28109, 6358, 38634, 35478, 32242, 39842, 29907, 17355, 26785, 34719, 46456, 47200, 9874, 1686, 37775, 11370, 49861, 14077, 8546, 33347, 28353, 46708, 7412, 29391, 40122, 3100, 38199, 40647, 9802, 21983, 3878, 41566, 36183, 16584, 29658, 20338, 25503, 15568, 33697, 38373, 16290, 31392, 33805, 12019, 26255, 18681, 26495, 36011, 28623, 34197, 24768, 37678, 5815, 36230, 7772, 6573, 20815, 42780, 41932, 24353, 7494, 10519, 8247, 5940, 24965, 12369, 1998, 43418, 36289, 8473, 22496, 42477, 33207, 14505, 34523, 37847, 20385, 41390, 45109, 46788, 10046, 27134, 13897, 45439, 22017, 27034, 40056, 18048, 1038, 204, 21487, 10457, 29576, 32314, 35207, 30678, 11311, 16759, 7932, 15335, 19591, 2977, 3247, 32715, 40710, 3440, 43278, 34219, 26787, 44288, 34804, 48393, 13208, 34548, 45754, 38366, 39019, 26305, 9713, 49046, 6647, 9417, 41041, 20929, 3429, 19639, 46768, 33982, 32641, 16225, 19668, 45900, 84, 3941, 19355, 40549, 36553, 17332, 25746, 24292, 17864, 36343, 48889, 12123, 23748, 15340, 44770, 39049, 15466, 37034, 19457, 45087, 24037, 10292, 16051, 10829, 14544, 34362, 48296, 23450, 16856, 961, 47826, 7196, 18103, 38968, 23548, 10530, 27981, 19894, 39523, 47825, 41798, 9730, 9425, 15069, 20823, 1066, 15049, 15065, 13400, 37889, 24383, 10772, 39291, 15310, 29786, 16467, 14854, 3262, 24746, 2306, 32561, 3648, 3244, 13913, 3171, 47709, 32958, 11278, 38068, 46598, 29026, 43494, 46601, 49529, 9586, 41740, 21438, 4990, 28937, 12425, 4870, 4296, 43430, 35464, 35211, 38205, 36557, 29614, 47853, 40025, 19698, 4330, 23956, 9406, 22210, 17678, 46443, 22180, 21667, 18127, 8644, 48215, 45723, 12839, 40659, 19919, 9371, 41538, 4910, 39134, 9042, 44318, 9795, 37845, 8046, 1355, 11647, 15994, 10425, 5317, 23737, 17689, 24654, 3862, 30009, 2789, 19283, 11445, 18115, 39389, 32416, 43505, 1757, 41753, 5436, 42047, 41147, 23633, 37037, 10002, 32697, 12346, 39094, 25350, 25887, 40921, 11137, 34662, 2261, 41281, 40125, 37759, 28978, 36962, 5050, 10440, 30986, 26924, 39770, 11831, 21979, 5361, 25653, 26514, 6778, 35225, 38883, 29414, 38158, 14933, 38197, 4285, 6890, 29137, 40204, 37580, 7629, 39165, 42032, 40794, 6367, 27567, 42455, 46479, 8014, 25700, 43753, 48042, 6280, 12725, 27261, 39377, 48678, 24328, 28724, 13792, 41855, 24803, 35021, 24095, 6001, 35355, 14007, 1014, 43176, 36847, 7483, 21629, 33398, 27299, 33618, 9444, 17542, 30325, 35524, 32931, 36427, 11967, 41049, 45576, 20433, 19917, 8479, 15615, 15366, 21303, 26380, 349, 19482, 8980, 9084, 3812, 7199, 28343, 38162, 29892, 20384, 33471, 649, 21382, 3735, 43473, 31094, 1517, 36236, 8071, 21957, 21729, 48637, 33767, 35975, 29364, 18290, 3779, 41072, 26470, 13421, 44979, 3548, 44714, 12016, 34563, 21452, 2672, 14762, 11923, 16708, 12220, 25083, 13109, 40581, 11578, 41853, 6047, 44147, 29656, 3125, 10088, 5139, 13348, 22955, 2024, 15534, 20656, 38611, 45448, 20981, 8610, 4387, 12549, 10184, 14697, 27221, 18190, 5859, 9594, 37761, 14778, 2825, 38099, 26575, 37757, 30485, 15320, 14783, 44561, 29164, 18666, 26446, 27594, 27543, 47274, 19061, 21664, 21629, 36209, 24779, 375, 1853, 49513, 41392, 24718, 5584, 12195, 46091, 39267, 43258, 24961, 21578, 40816, 25786, 18198, 40454, 43890, 33675, 42975, 20311, 42448, 18690, 42543, 4556, 16943, 39777, 29797, 8018, 25842, 39936, 2416, 1776, 38977, 2714, 28137, 5762, 37691, 39526, 17642, 47534, 5428, 13542, 13462, 48552, 36472, 1165, 28786, 23965, 27327, 40768, 33662, 22289, 30053, 766, 35882, 22895, 11077, 36370, 19645, 16613, 49346, 48431, 12025, 38762, 19024, 32143, 157, 37507, 5274, 23172, 12829, 27597, 21626, 12051, 28346, 37878, 48353, 38905, 20448, 16019, 6101, 36625, 34378, 16254, 45547, 44056, 13039, 15666, 33695, 19709, 8935, 7717, 15482, 4355, 37469, 16265, 48686, 32160, 24283, 11418, 49591, 44350, 1389, 30979, 31328, 32706, 27054, 9969, 2468, 11082, 9540, 771, 11356, 44589, 11338, 20777, 15919, 7737, 39988, 21013, 23626, 11586, 6550, 810, 17760, 13228, 11882, 38873, 33934, 45248, 18739, 27998, 46885, 11739, 41183, 8278, 7134, 14207, 4992, 20454, 2042, 44745, 45585, 11659, 42885, 17732, 37953, 3592, 36186, 119, 44550, 17359, 27300, 37728, 25171, 29435, 48677, 46418, 33508, 38174, 25639, 3164, 9856, 31603, 36727, 31143, 25062, 5029, 29307, 41236, 23696, 32864, 40054, 7107, 8634, 11784, 43804, 43246, 48599, 3898, 18096, 14954, 44824, 4892, 46090, 28014, 45484, 14380, 19302, 35553, 46713, 19049, 11157, 3477, 37123, 2256, 19475, 45908, 5335, 18946, 40523, 16526, 5330, 21321, 14958, 18070, 42014, 4338, 3219, 26892, 26755, 2677, 1827, 5365, 27332, 10543, 37626, 44966, 5905, 6391, 10775, 16049, 21063, 22226, 44786, 10742, 28826, 42216, 46615, 37203, 474, 39145, 44585, 8756, 21866, 34913, 10098, 24646, 8178, 20273, 10460, 6679, 579, 34358, 5928, 39297, 35617, 2416, 30322, 37673, 3906, 9434, 6842, 13273, 21414, 21442, 32261, 40853, 43762, 33539, 25672, 17239, 10946, 27304, 46750, 8794, 1647, 49976, 826, 1220, 14231, 15406, 37976, 121, 42629, 42036, 3344, 30554, 19400, 901, 32664, 22556, 173, 34667, 850, 30045, 18692, 34887, 12972, 1470, 42722, 13620, 15060, 4356, 4849, 33599, 49705, 16681, 28126, 39229, 43720, 18615, 40950, 44840, 20632, 21130, 8467, 31818, 43798, 21156, 14573, 3468, 5962, 68, 18638, 8845, 46277, 8917, 32836, 16995, 34032, 22596, 30928, 17514, 49264, 38701, 4748, 30375, 9466, 49728, 36346, 9290, 14137, 23366, 38754, 32425, 4734, 34686, 30502, 18848, 2593, 9368, 29147, 20009, 16499, 12021, 28608, 14065, 42226, 1823, 42821, 41049, 33289, 1289, 7645, 24175, 18158, 34044, 8231, 1504, 37538, 17762, 13075, 37809, 39997, 24423, 32654, 31091, 11415, 36431, 18069, 26424, 45831, 27825, 18167, 45244, 34459, 38992, 1811, 38629, 11800, 739, 20579, 27372, 29759, 25636, 1249, 23378, 37642, 16764, 36094, 24085, 27001, 36383, 32252, 47811, 23447, 25128, 28560, 11616, 26286, 45093, 35106, 35617, 21164, 43838, 38706, 29790, 3382, 46489, 34092, 24781, 38992, 15311, 42357, 20993, 29499, 36733, 32763, 19762, 12483, 8641, 39298, 48590, 47726, 15587, 36041, 41012, 31599, 41074, 806, 46423, 12568, 8896, 41278, 35568, 16317, 32816, 4262, 43013, 42492, 12287, 24497, 26455, 7882, 13838, 34358, 31945, 19382, 13467, 5839, 28496, 761, 40945, 13353, 40813, 34958, 44154, 28224, 40031, 1786, 43954, 11729, 30381, 34398, 6685, 48002, 24923, 3433, 49018, 29637, 38227, 22732, 325, 32460, 26473, 30480, 3707, 175, 23489, 9644, 7234, 41903, 42060, 19405, 46898, 11345, 802, 27283, 11036, 7520, 16886, 10100, 41854, 46486, 46040, 10955, 33134, 9185, 9279, 26384, 4954, 25999, 22807, 22112, 40470, 48952, 20215, 23232, 28641, 37499, 24936, 14757, 23390, 20958, 34324, 36241, 13396, 36639, 34298, 44328, 36031, 39818, 44481, 7591, 11809, 25689, 22662, 45112, 12720, 46426, 19462, 19478, 3086, 31070, 24852, 4592, 38422, 44008, 8238, 35845, 22537, 25812, 20991, 10162, 14066, 3881, 47791, 11508, 13103, 28747, 39887, 40000, 33068, 19280, 6119, 5236, 47091, 12868, 31533, 40450, 26510, 9642, 22412, 42525, 23047, 28001, 41669, 15775, 49672, 12931, 14363, 40425, 40155, 33078, 12187, 28062, 29265, 34013, 28948, 33081, 10537, 40300, 9861, 27043, 38187, 34533, 42675, 9422, 8873, 28370, 18112, 31819, 29882, 39348, 20239, 27692, 28294, 39912, 43679, 9910, 25598, 20782, 10763, 27003, 49278, 18739, 9953, 40147, 34062, 19523, 36476, 48595, 43053, 17427, 38821, 29887, 7713, 22280, 40034, 17797, 45179, 41701, 29431, 45273, 19388, 47443, 14769, 3108, 6100, 44768, 39341, 9130, 15727, 38072, 24956, 40613, 25633, 33058, 48567, 27954, 36525, 7056, 20642, 49940, 33129, 13686, 38416, 42843, 17108, 16902, 8485, 41242, 33490, 12460, 16863, 13724, 15723, 6313, 6171, 7216, 6944, 34962, 14323, 31830, 35408, 3539, 8457, 17236, 47823, 38108, 41212, 19618, 22004, 19336, 1457, 41360, 26850, 26488, 18837, 46108, 23503, 8972, 26999, 45854, 20818, 4681, 45424, 20368, 37328, 7333, 44857, 27309, 40168, 15232, 28625, 42855, 35593, 27931, 37445, 8971, 17774, 18163, 48475, 1478, 17159, 7932, 3632, 42298, 6849, 17399, 33219, 37289, 43328, 11328, 3484, 15331, 21214, 41847, 30516, 6065, 31212, 36421, 29115, 5611, 14111, 27569, 33686, 40737, 43674, 11448, 13515, 31249, 39028, 40556, 12622, 12142, 2783, 12524, 15927, 860, 49128, 21178, 31833, 40148, 20007, 27359, 19868, 19736, 48543, 39827, 2204, 15375, 19356, 34208, 7099, 21974, 47411, 16411, 2020, 27954, 49499, 16748, 10635, 46056, 36463, 21443, 7850, 22471, 35624, 34900, 33028, 13478, 32832, 41769, 44082, 28799, 1012, 16036, 43196, 25987, 13996, 9408, 15520, 35023, 48727, 24486, 22762, 15691, 7348, 41505, 13769, 30291, 14996, 30452, 44640, 49421, 39589, 18527, 32462, 17482, 13805, 893, 40542, 46250, 40927, 33196, 39955, 32015, 8377, 12627, 34071, 31033, 29160, 1943, 4521, 4405, 49206, 10344, 11256, 6803, 40111, 45571, 6892, 22818, 39073, 1921, 25825, 44209, 9267, 32475, 12400, 15095, 32996, 34076, 29329, 4667, 45176, 37062, 10347, 19298, 39272, 5199, 7525, 32218, 27525, 42221, 983, 39001, 11878, 24385, 1115, 10390, 17680, 35525, 32175, 8666, 32961, 15095, 8077, 22822, 9725, 5519, 22182, 42091, 44920, 30112, 18447, 1903, 2618, 30298, 25519, 20041, 13782, 37804, 49671, 40803, 36589, 29283, 557, 16239, 25087, 25146, 6582, 23185, 32212, 47393, 7686, 3036, 8134, 26282, 17462, 41633, 2987, 39664, 18562, 26793, 5985, 46023, 6778, 32731, 32471, 14741, 27406, 5570, 16241, 14118, 15847, 27511, 32868, 32889, 17116, 23033, 18336, 45258, 46974, 24772, 29652, 40329, 48457, 42923, 42574, 24385, 36558, 17284, 30516, 29128, 48982, 22733, 12443, 34299, 28991, 33570, 1439, 38792, 4124, 45172, 14726, 9841, 29099, 19925, 48676, 32073, 7496, 34138, 8774, 23156, 12524, 44579, 6658, 28611, 21806, 2069, 2049, 964, 46756, 43430, 44041, 1550, 6417, 43580, 13572, 49697, 29912, 43513, 19552, 24099, 40117, 43543, 1617, 22279, 27117, 43164, 5161, 5706, 40137, 24264, 43918, 24218, 31796, 26799, 39418, 26647, 16993, 402, 17141, 5082, 36647, 47076, 13943, 32007, 12155, 20969, 14748, 21750, 43516, 12022, 33218, 43937, 3368, 26024, 24649, 15671, 43455, 22772, 6200, 4518, 25113, 36836, 34786, 7583, 15197, 16382, 17482, 49890, 29906, 1192, 6273, 30576, 29870, 45468, 2926, 24189, 37724, 9119, 7918, 36463, 37749, 8702, 20526, 9193, 48129, 27123, 44968, 44224, 18181, 21736, 40363, 39598, 5240, 5354, 40970, 4053, 17318, 43119, 3262, 32556, 7206, 44350, 4538, 49278, 15654, 8502, 21526, 14679, 7938, 40608, 25085, 32476, 29870, 48484, 18786, 31322, 44911, 1235, 25592, 1790, 16804, 44953, 14806, 47659, 5950, 19293, 31811, 2558, 2376, 20946, 712, 40502, 1149, 32759, 28801, 7736, 1744, 21348, 23045, 20213, 7299, 11620, 41828, 26100, 3665, 21300, 28179, 49826, 34943, 20908, 42208, 19625, 21625, 11465, 27816, 44607, 39246, 29946, 21235, 16755, 36560, 45910, 28506, 436, 21559, 33363, 9683, 29096, 4961, 35521, 26620, 30234, 26570, 33461, 39136, 2001, 27355, 31494, 21070, 3278, 39728, 16268, 27540, 43295, 47328, 904, 755, 38414, 32059, 36486, 27954, 6400, 32704, 11266, 27731, 30699, 1432, 22049, 1593, 13961, 46155, 46481, 14800, 36148, 414, 3192, 9058, 34878, 16127, 11090, 48402, 38689, 31389, 3477, 44238, 22372, 37043, 32456, 14122, 40587, 48026, 43512, 47415, 48695, 4971, 49538, 40174, 39920, 48709, 34875, 2985, 22724, 32171, 13333, 28893, 30226, 15347, 64, 10911, 33941, 39461, 47672, 9228, 33852, 8287, 43229, 9481, 30966, 48936, 28313, 17811, 849, 9943, 38764, 7283, 36364, 23544, 4848, 26571, 15603, 12306, 30531, 10132, 5223, 41065, 23360, 42464, 30582, 22480, 33562, 14911, 27210, 47876, 13901, 1553, 28560, 24688, 31128, 41014, 43593, 19708, 45624, 8152, 34034, 17649, 31326, 13405, 36937, 49726, 33493, 45767, 36711, 30585, 13714, 5624, 33080, 15161, 28840, 20236, 43731, 13892, 49816, 16729, 18953, 34512, 42498, 2380, 25338, 20829, 32414, 48009, 10357, 14365, 20819, 16210, 7288, 5833, 2798, 20864, 28538, 36783, 11892, 21576, 10358, 14927, 31685, 11238, 4621, 5827, 15271, 21580, 27115, 24953, 31520, 10976, 39887, 29886, 35043, 46308, 12763, 14135, 48718, 20876, 38985, 34051, 27548, 17099, 4701, 18418, 36104, 44963, 49340, 32204, 6438, 41185, 23927, 47336, 2052, 27816, 24582, 48405, 21817, 44063, 37096, 45054, 45933, 35672, 15673, 23865, 1996, 12174, 200, 18188, 38252, 49010, 34255, 17423, 23461, 29783, 15386, 20926, 42366, 21886, 5635, 39261, 3301, 29985, 43997, 24518, 5379, 38590, 5752, 2051, 39443, 23000, 36592, 20016, 17370, 42648, 28307, 49458, 5122, 37641, 10010, 47917, 11031, 22127, 9331, 32513, 47577, 29059, 11919, 14784, 1705, 9214, 46610, 31914, 20918, 7153, 5863, 3730, 11759, 26444, 904, 14505, 43697, 28903, 31612, 21385, 18913, 46920, 4566, 27860, 18766, 1686, 46818, 28542, 42834, 7929, 17303, 26482, 32840, 10895, 32487, 38611, 38766, 20958, 23105, 13785, 26186, 33996, 16257, 49250, 19283, 6315, 26557, 25882, 43926, 15727, 19093, 46122, 4784, 16056, 25101, 95, 36367, 37705, 160, 12812, 32074, 28251, 40691, 32064, 17275, 9418, 37793, 20683, 14189, 36039, 27895, 15310, 12539, 9650, 39524, 28954, 43352, 13977, 7761, 32556, 13077, 46101, 32746, 9276, 37667, 23280, 32565, 23585, 11739, 11785, 34697, 42720, 37979, 555, 46270, 35341, 44888, 15791, 39150, 15905, 35969, 2187, 1904, 13012, 24708, 45941, 20450, 20379, 9947, 21723, 41520, 34316, 41861, 37057, 37946, 48883, 16735, 27583, 44845, 34246, 11511, 14440, 14171, 36535, 46396, 4697, 1650, 31686, 3724, 46728, 19821, 48180, 25652, 34585, 15800, 4431, 11371, 42508, 6329, 39256, 10788, 47666, 29647, 34466, 9342, 22447, 48305, 42436, 30193, 20282, 8487, 29073, 17267, 44567, 17923, 13703, 37610, 41331, 5035, 8219, 27156, 7841, 45603, 23850, 27317, 46299, 45799, 6457, 38116, 36260, 44145, 35778, 19623, 17423, 10887, 9604, 25354, 12562, 39137, 25787, 15144, 6820, 36621, 30927, 32794, 1542, 47901, 34584, 9951, 29443, 27065, 16840, 29398, 43221, 7485, 32891, 1444, 43549, 37896, 43223, 10115, 11352, 15725, 39012, 21648, 18101, 7619, 16882, 17810, 30615, 26388, 26611, 7043, 34917, 30765, 40435, 44190, 39361, 474, 15045, 3789, 8732, 5316, 49903, 42760, 1201, 29134, 34628, 23388, 43630, 10689, 8068, 47640, 26003, 18100, 31310, 21387, 16564, 43898, 16951, 15792, 36023, 12329, 18466, 47557, 43900, 35041, 29165, 15263, 13037, 13709, 12915, 38854, 4347, 10220, 2975, 28418, 34805, 11592, 30753, 26867, 8267, 22650, 1292, 47246, 993, 10056, 10865, 22117, 11568, 29641, 42417, 26037, 42882, 47240, 3061, 16065, 41456, 27129, 43773, 49139, 8102, 37979, 16018, 26340, 17837, 38077, 47249, 37957, 30049, 27272, 28631, 1786, 46091, 42716, 528, 22374, 43684, 13709, 17754, 8128, 27068, 37343, 667, 5588, 2961, 36249, 32278, 43719, 17092, 45395, 20853, 40615, 24051, 39123, 31435, 6834, 38683, 15717, 30409, 10109, 17341, 29877, 41565, 48563, 3032, 7094, 33732, 35664, 25851, 2670, 38454, 18686, 40236, 16966, 41657, 23805, 48263, 49351, 21361, 17353, 12240, 46071, 44800, 19641, 49278, 17174, 47148, 37623, 19492, 2027, 44826, 22894, 46799, 30232, 27784, 7038, 39188, 28577, 45558, 8309, 48559, 28066, 25433, 40218, 30292, 16546, 1391, 17796, 27524, 27725, 47320, 28353, 20522, 22470, 16370, 10094, 4615, 26577, 11373, 3168, 39944, 2577, 15044, 2325, 30368, 36019, 48432, 2235, 44383, 24695, 11080, 48837, 43727, 33775, 37470, 35514, 32415, 37003, 46426, 41054, 14968, 38114, 8103, 23348, 32185, 42727, 10099, 788, 23542, 34061, 38002, 15200, 34724, 8183, 37976, 20001, 25660, 3294, 30646, 10558, 10818, 9283, 5754, 28618, 6743, 11973, 31525, 43083, 12787, 15358, 8683, 24501, 37419, 23293, 4598, 40991, 43304, 28539, 40, 3160, 9023, 48362, 5295, 9694, 19775, 3594, 40830, 43289, 4802, 26190, 49149, 27486, 46795, 16411, 45987, 8985, 12691, 19874, 924, 33234, 11927, 12189, 22560, 42857, 31187, 20813, 5393, 18348, 49957, 19491, 5802, 8622, 27154, 12104, 47627, 9241, 15763, 15166, 7017, 177, 37823, 8489, 10164, 23110, 47839, 31017, 21352, 34174, 21705, 3898, 49115, 44252, 44019, 13830, 10029, 30946, 25832, 19977, 10436, 49625, 11203, 12790, 21940, 39781, 47223, 45736, 1057, 28798, 42316, 9591, 30173, 17571, 34966, 44487, 43982, 14771, 399, 19754, 25459, 40189, 26981, 11740, 10424, 29000, 3934, 42861, 34462, 21138, 6876, 16928, 4818, 12900, 39864, 4003, 12427, 21125, 41479, 3689, 4854, 45765, 19993, 20232, 47471, 42830, 2174, 47433, 21146, 49297, 30139, 19468, 27584, 47005, 36264, 26170, 23081, 46932, 31905, 16207, 30616, 37219, 43995, 48092, 17319, 46108, 22571, 5347, 28029, 2179, 42922, 8517, 33648, 46448, 14223, 47615, 25521, 18136, 40116, 14190, 22499, 3723, 49174, 25658, 2784, 1333, 2926, 13899, 42608, 32548, 17127, 1786, 47639, 43267, 35001, 16590, 30158, 22942, 35033, 3291, 36602, 13368, 35386, 27915, 40147, 24518, 49742, 21338, 19893, 25453, 17876, 7935, 12564, 13308, 7855, 17516, 10335, 29333, 33237, 15387, 37310, 12162, 6169, 3801, 46750, 15855, 35786, 34864, 24760, 36711, 47175, 20213, 38120, 48402, 49295, 14469, 42148, 38393, 42833, 15537, 42834, 41968, 35534, 22142, 22098, 14134, 10383, 29127, 39778, 27144, 24296, 6344, 16063, 8322, 12530, 29886, 40584, 26005, 3711, 36320, 19510, 5906, 47025, 6624, 23576, 1154, 37527, 35633, 9761, 39027, 20776, 22668, 4834, 19701, 12668, 4010, 19565, 14759, 28339, 2757, 31885, 11482, 4961, 13278, 35904, 30736, 38318, 30319, 6549, 34220, 19627, 48814, 27776, 49967, 46697, 49131, 38134, 47428, 11992, 44626, 11192, 30649, 36322, 19325, 22557, 7411, 31782, 44232, 31184, 1939, 33466, 18612, 19964, 14589, 44514, 13510, 24264, 15512, 48971, 37168, 21354, 35954, 18983, 35153, 13037, 8364, 31048, 13224, 21562, 45392, 3689, 28082, 8691, 2790, 7949, 559, 30604, 35698, 7928, 38888, 15924, 13214, 32605, 27244, 32405, 13495, 13881, 2506, 12652, 12036, 20372, 1940, 11337, 9148, 40310, 44669, 49333, 46703, 38467, 31877, 45085, 15266, 23935, 40461, 20522, 8486, 9849, 39694, 42673, 5182, 38707, 28717, 8829, 21596, 39809, 48010, 46659, 33035, 27266, 48871, 46741, 1969, 43351, 36950, 7727, 17673, 1149, 25525, 7207, 10825, 35092, 31409, 22197, 44028, 26338, 5548, 35193, 43188, 34497, 8066, 28770, 46691, 47362, 36207, 40703, 14563, 1944, 33351, 37189, 4232, 35837, 42345, 3284, 44954, 12237, 43982, 952, 636, 12186, 49019, 16172, 40898, 4214, 30032, 14798, 45028, 47260, 9173, 22417, 1514, 12270, 13180, 6115, 28463, 24020, 24691, 14048, 12855, 10678, 7700, 7563, 4158, 43323, 13594, 28186, 34555, 24340, 48732, 36840, 48229, 1176, 11983, 938, 9106, 3026, 34425, 1331, 46392, 36677, 30871, 21475, 7218, 41414, 12199, 25573, 34658, 45443, 47638, 31867, 32564, 49943, 37404, 11599, 20641, 30338, 33563, 34270, 13615, 25381, 6805, 21508, 31111, 22973, 40578, 926, 4097, 29277, 41887, 19112, 39612, 33631, 45602, 29758, 20886, 48574, 1974, 36033, 32713, 8709, 44769, 11287, 10094, 21401, 44286, 4341, 14810, 43722, 18476, 46642, 7288, 48406, 28707, 22663, 24331, 30058, 19577, 17587, 1269, 20188, 11682, 5978, 22128, 33368, 11905, 48296, 19115, 30158, 24361, 20477, 4398, 15315, 39490, 11139, 14432, 14629, 17595, 29958, 6910, 12855, 48957, 10028, 7383, 13392, 41577, 49329, 9318, 45500, 7017, 22500, 39463, 14914, 36049, 4219, 20762, 14701, 45494, 9461, 14105, 29543, 21764, 32404, 25182, 31865, 37470, 16998, 38554, 45236, 32977, 1268, 6912, 30328, 17753, 25908, 48578, 17443, 1560, 26730, 16126, 42003, 19013, 3981, 46495, 17105, 7250, 44069, 4425, 28768, 41853, 9024, 25882, 22898, 22968, 24735, 31393, 24328, 18853, 21903, 10221, 47592, 1468, 49339, 8693, 7041, 14433, 6289, 17505, 14530, 12166, 32140, 40990, 11589, 3219, 45829, 47944, 16073, 32969, 8967, 9718, 5961, 1382, 37649, 10403, 12442, 44443, 2028, 2136, 37933, 3350, 27431, 42872, 49314, 3882, 14565, 5359, 19491, 27918, 46641, 12323, 38652, 184, 6149, 2895, 11552, 13107, 6365, 28346, 9465, 45370, 34078, 29517, 21654, 16712, 15713, 550, 7511, 38172, 41567, 27024, 21939, 24523, 36164, 25372, 36392, 10168, 2301, 49141, 24089, 49794, 14304, 4214, 17568, 46942, 22985, 17595, 6953, 27320, 17036, 13250, 31254, 7164, 45509, 46785, 47778, 45016, 10795, 39251, 16846, 19469, 22092, 5754, 1508, 39493, 30935, 21027, 48511, 21278, 3280, 24150, 45839, 12498, 30908, 37456, 14824, 23269, 4681, 34188, 1659, 7975, 36181, 35104, 24898, 5717, 49989, 11726, 18931, 19649, 1767, 41893, 32314, 30811, 17424, 33816, 9577, 41250, 3575, 17636, 12294, 21941, 27238, 36169, 24064, 45435, 30246, 8647, 14853, 3371, 11391, 16351, 29397, 48758, 33797, 26703, 42652, 17876, 40164, 25263, 24857, 5771, 38271, 17549, 38159, 31549, 4458, 7947, 42887, 11761, 34732, 37958, 10756, 7336, 6623, 7726, 25779, 26313, 16378, 39901, 26858, 1200, 2574, 46228, 13721, 13531, 45561, 39410, 4098, 20843, 30816, 20214, 40816, 20071, 17546, 35896, 40825, 45662, 28673, 30606, 2817, 10950, 6134, 46847, 9608, 31258, 35733, 37204, 13381, 43689, 44118, 47733, 10171, 31469, 6863, 16432, 23453, 32190, 23715, 49274, 20244, 38867, 22569, 8061, 28976, 36507, 4416, 8587, 42727, 46094, 25090, 24985, 6644, 47544, 23529, 7, 9507, 2798, 37934, 6557, 15368, 29704, 41684, 38463, 7619, 3666, 12007, 31836, 12406, 7867, 43177, 11207, 48474, 20118, 11186, 2087, 47653, 27842, 6237, 18353, 30859, 23598, 28316, 16057, 7178, 30127, 18598, 13785, 23045, 45295, 2412, 26498, 34191, 29325, 15687, 46399, 15907, 20948, 38234, 26505, 43129, 35811, 42364, 18479, 41872, 38319, 42123, 43259, 20522, 34675, 43330, 33623, 3137, 20659, 42385, 49958, 31343, 11780, 35852, 18587, 38668, 33612, 10798, 15745, 49689, 22923, 22252, 931, 7417, 9872, 32635, 13443, 36338, 9557, 9118, 9148, 27357, 14255, 39351, 36374, 23517, 9376, 37372, 4215, 20677, 7858, 28059, 25112, 10033, 40141, 36920, 18057, 41175, 24603, 9543, 6390, 26102, 42292, 25218, 15795, 43336, 31001, 8597, 9699, 12359, 10257, 47909, 43627, 26856, 1939, 25813, 15568, 16562, 47250, 37704, 37686, 43749, 29973, 16112, 1767, 34981, 49441, 47969, 47635, 32982, 10386, 26052, 10874, 16813, 39954, 13298, 42223, 18642, 24731, 38829, 34620, 14884, 11871, 21457, 20079, 43510, 17563, 46276, 33683, 6087, 2329, 14786, 24516, 20043, 15123, 33539, 38982, 27073, 17918, 36476, 40456, 26118, 20202, 32280, 8537, 46760, 7798, 15802, 31550, 22879, 33120, 43233, 29425, 18744, 28682, 31728, 16430, 47297, 30869, 45122, 8502, 31575, 8964, 42791, 46875, 18052, 27749, 29792, 46332, 3398, 18752, 13079, 2908, 42286, 7980, 11098, 21334, 26311, 28584, 660, 5004, 37874, 47681, 45664, 15490, 30009, 39163, 20977, 20198, 32584, 27179, 600, 38191, 5433, 20649, 28125, 19409, 17169, 39595, 9294, 45784, 45787, 13442, 40290, 4312, 41502, 17834, 25858, 31071, 26625, 29191, 40606, 7729, 41903, 31185, 34182, 48737, 22645, 42212, 36679, 37596, 8806, 33085, 33245, 34648, 24773, 42815, 28696, 20116, 21273, 40777, 6356, 44643, 17636, 15489, 6926, 8318, 46774, 42713, 42998, 33123, 23060, 4330, 46190, 11276, 46393, 17266, 39373, 34906, 20831, 20743, 48723, 16117, 12560, 31582, 2834, 14317, 6260, 26614, 17824, 7738, 19925, 34984, 39393, 41121, 9892, 14117, 40462, 21358, 10292, 6031, 7174, 6661, 33822, 14651, 10300, 6099, 23300, 31144, 45558, 33099, 17436, 36076, 27493, 24757, 32920, 27552, 14815, 16323, 40044, 15390, 275, 36867, 14776, 11219, 20617, 20680, 9783, 27372, 42982, 46368, 2395, 12184, 9393, 32297, 24201, 3815, 5759, 8454, 27411, 47735, 43627, 8813, 24506, 34233, 26833, 48583, 23452, 18256, 23223, 18726, 17831, 28616, 43147, 20655, 27028, 49010, 37703, 44948, 22682, 13985, 49397, 18834, 19729, 40419, 21410, 46016, 19042, 24422, 15791, 9679, 48318, 27288, 46858, 28909, 9805, 18220, 4859, 40974, 1162, 22744, 5231, 44603, 45423, 15702, 23708, 43126, 16513, 47000, 11527, 37116, 17087, 8698, 14285, 21607, 32921, 16701, 15681, 40880, 25660, 22933, 39193, 14502, 19951, 1504, 9487, 20165, 7239, 28706, 21622, 8236, 3983, 17251, 16333, 21307, 32347, 5207, 2804, 38916, 571, 9971, 16675, 14721, 5079, 31256, 24729, 25654, 30991, 32363, 41631, 43490, 7670, 34301, 26507, 11215, 14426, 48084, 16774, 18443, 2224, 34103, 1193, 40243, 10843, 45970, 13060, 24805, 11213, 28308, 25212, 31519, 31555, 41985, 41553, 40316, 10877, 4573, 43589, 12158, 35580, 20592, 27340, 29813, 37818, 42487, 6828, 49267, 40934, 46208, 26321, 3894, 1594, 48476, 48078, 44438, 3242, 22797, 47023, 47888, 35452, 8462, 20658, 45897, 37896, 8552, 47767, 29150, 40188, 12421, 10887, 21282, 37128, 27086, 31517, 36874, 37557, 32982, 5770, 14598, 24712, 45539, 9344, 40821, 20273, 30118, 7109, 18204, 8288, 22388, 10011, 43658, 44323, 48379, 33545, 21721, 10432, 39633, 45426, 13005, 16106, 31293, 40484, 45429, 20840, 16705, 34790, 5496, 6376, 18370, 41241, 30440, 984, 11421, 2520, 14115, 39199, 38002, 45876, 46116, 47361, 17573, 34818, 32816, 20178, 35615, 40742, 8744, 44397, 38310, 26032, 39056, 35785, 39441, 505, 40589, 1487, 24313, 26031, 45299, 46363, 46441, 38254, 15974, 38732, 23983, 27029, 7127, 37342, 33847, 1721, 41749, 579, 41142, 33757, 36660, 30612, 20222, 39012, 19117, 30789, 41746, 9067, 21747, 15254, 4468, 38441, 25522, 39272, 33410, 33635, 16408, 18974, 30464, 45309, 1718, 19902, 16742, 21085, 10784, 38408, 43019, 42242, 3647, 28348, 38998, 36435, 46124, 10046, 41555, 42475, 4220, 29824, 41711, 27947, 40383, 7629, 31484, 14194, 14742, 41002, 23955, 24841, 6309, 39943, 36051, 22916, 31674, 35422, 22938, 46342, 41545, 22716, 41586, 34600, 30010, 14444, 48056, 44839, 12178, 33775, 36173, 31903, 4529, 41003, 19046, 48643, 41728, 27953, 13250, 21698, 4484, 2713, 49833, 36487, 11853, 28222, 47886, 13907, 10194, 23930, 22420, 36831, 28587, 12844, 9758, 27357, 16011, 42626, 32715, 36460, 31492, 27314, 43567, 29231, 9532, 32243, 46672, 28239, 16936, 25621, 2595, 650, 12774, 21796, 41239, 7689, 29270, 40897, 17942, 30623, 47731, 47369, 2620, 43438, 30458, 9450, 20155, 338, 18804, 17974, 31249, 46522, 7107, 418, 6797, 30163, 27827, 24888, 20531, 39825, 25493, 23096, 35584, 31442, 44778, 41942, 10784, 23526, 28661, 16092, 16366, 30257, 11816, 42782, 34090, 19328, 42432, 10947, 45556, 7781, 49515, 31160, 16649, 37375, 29656, 2991, 45638, 17122, 49480, 22596, 7798, 10481, 1829, 40515, 9034, 42400, 29214, 13916, 4019, 7540, 2131, 24300, 2437, 7382, 21419, 49112, 21359, 36150, 5462, 29920, 31008, 14677, 48618, 39849, 11144, 22199, 14961, 43082, 20452, 40404, 39129, 45487, 20691, 48648, 21046, 699, 659, 39572, 1065, 46610, 7894, 42268, 26905, 38333, 5526, 10036, 34970, 24191, 5193, 10990, 1313, 21241, 41253, 22307, 8464, 34846, 39119, 18997, 49577, 21834, 12371, 42506, 2878, 22000, 29286, 9215, 16189, 34149, 15400, 35952, 1722, 10775, 32927, 13872, 38138, 44007, 34160, 48595, 16146, 1521, 40754, 46582, 43107, 47557, 14978, 32239, 24680, 19235, 32485, 38933, 47061, 40815, 42923, 49871, 6198, 23746, 42851, 45517, 8084, 42442, 45035, 33724, 41607, 36003, 12319, 29088, 25359, 33253, 25400, 22387, 46318, 12095, 14806, 19189, 16479, 11113, 12728, 15200, 27757, 1559, 9822, 15856, 44258, 46810, 43611, 44775, 37047, 16695, 36536, 37582, 387, 18563, 36105, 45865, 33750, 4411, 22296, 816, 15760, 52, 24876, 24515, 6762, 16957, 19287, 10253, 8761, 24687, 29637, 31759, 20532, 46863, 43955, 6577, 25537, 5680, 32806, 27317, 21777, 2772, 2907, 41261, 44713, 3699, 38987, 5259, 16575, 7940, 4246, 34642, 721, 22012, 10357, 7277, 37765, 11510, 13204, 9916, 18278, 36615, 45301, 13070, 12995, 40457, 5187, 42704, 32665, 48112, 38554, 27988, 33447, 37977, 13423, 8891, 7229, 22503, 17780, 28847, 7123, 20738, 4658, 6190, 44011, 32280, 7632, 27492, 45776, 31395, 9000, 33135, 1045, 16401, 27937, 43391, 48079, 15283, 3155, 49115, 26144, 39665, 11825, 12439, 2994, 5051, 19212, 12176, 38293, 2678, 43213, 14630, 20099, 48142, 27767, 45747, 47824, 33500, 38432, 20042, 24487, 4354, 42059, 32668, 47011, 14884, 24432, 20000, 31485, 37566, 44361, 28649, 26545, 13556, 46567, 15404, 45767, 42647, 45164, 12741, 23940, 19298, 27069, 12679, 20122, 41135, 4210, 31668, 45071, 41829, 1407, 21050, 9139, 11048, 5745, 30209, 12153, 18869, 46797, 36506, 8090, 32429, 45950, 16367, 14378, 40668, 13082, 5577, 23336, 40944, 35955, 9913, 36448, 45635, 37381, 40377, 35543, 9069, 36924, 49831, 25123, 46130, 31606, 47402, 29153, 21990, 46985, 17674, 5361, 48280, 39102, 45817, 43111, 22705, 31542, 42243, 42191, 17008, 15063, 39024, 20044, 30914, 18095, 10611, 11075, 3513, 15796, 20357, 3354, 43166, 24675, 23673, 23729, 1296, 34022, 32558, 38109, 24666, 27648, 45637, 35774, 15615, 24936, 29309, 28786, 10572, 47555, 17710, 2031, 12924, 30765, 25529, 48490, 17483, 20147, 30192, 31309, 42263, 42417, 31135, 30047, 9606, 8984, 33979, 36063, 17574, 37073, 17654, 27988, 47477, 7687, 37562, 9673, 31687, 7071, 14616, 47635, 42753, 33401, 33688, 41888, 320, 26560, 31761, 16531, 37554, 44550, 12635, 32491, 43841, 39768, 29041, 17576, 27298, 587, 8910, 36800, 2415, 20289, 1227, 2217, 41588, 36700, 16827, 12480, 3520, 7767, 33392, 15289, 45591, 24434, 16245, 36866, 34263, 19688, 24651, 750, 35343, 11909, 41528, 43461, 29524, 3084, 30583, 18490, 25769, 46410, 37971, 18594, 7352, 34573, 25390, 40007, 16537, 34465, 46153, 49518, 4905, 3886, 687, 2155, 46604, 25934, 21063, 16151, 46525, 20619, 17496, 4474, 4095, 43982, 20783, 44151, 22723, 14494, 14956, 42273, 47642, 37587, 17744, 7777, 36484, 25890, 9515, 41753, 30088, 42120, 22243, 40272, 6240, 32329, 24284, 43115, 11113, 1304, 46273, 22597, 5015, 1462, 12162, 18569, 44544, 689, 17804, 40104, 14344, 44305, 34117, 19905, 3869, 30249, 38197, 10323, 47168, 42212, 5825, 20909, 16580, 49105, 14068, 29343, 43324, 44697, 6767, 48174, 39360, 3212, 21490, 41078, 20377, 24126, 46639, 40758, 32772, 43232, 6771, 22300, 46573, 41409, 46010, 31596, 1274, 26452, 1409, 4637, 18742, 45920, 48227, 38815, 30999, 44934, 43682, 29012, 38448, 7275, 25183, 46818, 36631, 14823, 47587, 6224, 4179, 11401, 32351, 9759, 34397, 11466, 22140, 29023, 1670, 40245, 28245, 11612, 37271, 15164, 49966, 25193, 42510, 34936, 26989, 14068, 5611, 7925, 3748, 29360, 25760, 30490, 20513, 32074, 16643, 40956, 16190, 20931, 31233, 36116, 43596, 43304, 49758, 16114, 45487, 36789, 21715, 25511, 37740, 18925, 4337, 259, 41543, 4740, 27520, 32638, 41153, 48945, 44959, 11787, 25704, 33134, 37645, 43493, 28364, 4343, 42019, 11551, 24665, 18636, 41901, 13616, 37050, 34646, 22058, 47687, 11528, 34043, 4028, 41193, 29315, 9823, 30749, 21927, 31953, 29805, 47704, 39296, 40411, 42835, 30274, 1800, 49178, 12434, 41754, 12403, 28812, 14014, 14377, 46006, 42142, 29491, 23051, 24252, 13916, 45236, 5321, 39769, 438, 20332, 36528, 18487, 32607, 22471, 48996, 30520, 17195, 44348, 41063, 6131, 12795, 41859, 32497, 41494, 49731, 7296, 20927, 40276, 6948, 36394, 40312, 48260, 36568, 32844, 24614, 11916, 29642, 18630, 13449, 2758, 49062, 48007, 10244, 70, 47587, 44872, 32263, 37564, 39298, 24579, 45382, 45249, 32278, 10904, 46181, 43696, 1074, 45717, 44218, 41697, 18557, 18220, 40589, 30383, 38263, 2096, 38034, 42913, 45152, 8367, 30662, 22235, 5050, 27573, 39958, 30951, 29928, 6665, 6669, 18929, 13826, 44837, 7517, 40948, 6802, 11585, 40547, 37201, 5450, 6009, 5271, 21404, 6140, 23127, 36181, 45058, 49886, 4619, 40376, 23418, 3938, 174, 15511, 5576, 11123, 33821, 21803, 45289, 25707, 43265, 20362, 10758, 7460, 8664, 15716, 31550, 13010, 14055, 37283, 36036, 23728, 260, 2810, 2732, 28774, 39079, 20713, 46232, 20430, 17718, 22809, 45311, 33362, 36570, 48658, 29594, 41371, 36721, 10038, 46036, 13491, 2464, 32131, 35708, 34426, 18662, 17739, 46995, 35886, 15184, 14155, 12396, 24634, 44610, 28304, 20441, 11811, 15876, 31963, 4942, 15352, 5311, 49115, 32384, 23361, 40658, 42332, 5292, 35500, 876, 49507, 32570, 36921, 34935, 35895, 21068, 4634, 38382, 12381, 29445, 18505, 25, 32995, 41693, 45890, 11917, 41087, 21033, 7552, 27394, 40436, 3666, 20846, 3614, 42113, 44423, 31615, 24054, 7672, 6439, 22913, 28616, 18854, 30650, 18542, 3912, 24888, 37872, 12446, 1937, 36315, 10629, 33574, 48373, 39368, 4483, 12901, 30979, 14840, 14775, 1153, 1331, 43837, 11784, 39255, 10253, 12619, 10879, 32386, 28840, 23377, 19060, 27773, 3615, 33487, 25334, 1644, 22937, 37712, 25994, 38976, 26250, 48848, 3064, 5544, 30095, 13570, 45953, 5869, 4493, 35738, 6514, 14276, 32434, 23654, 32756, 35121, 10291, 35472, 49071, 2690, 16996, 19056, 13534, 12817, 23968, 9069, 16725, 1778, 10896, 28045, 35740, 46619, 41385, 35775, 24521, 46100, 15956, 30777, 48440, 8373, 42804, 40624, 16279, 22379, 15688, 49090, 28018, 25413, 10333, 44194, 29383, 23050, 36143, 31617, 39762, 47036, 13878, 8982, 5977, 10713, 20494, 25939, 41319, 37719, 21455, 14376, 33130, 40373, 44402, 17270, 30083, 43024, 37583, 40957, 21700, 45646, 48832, 43357, 41572, 44256, 31636, 41211, 35484, 30962, 42318, 25723, 22415, 19817, 28525, 37056, 38669, 33153, 25809, 40131, 13155, 21993, 15138, 32518, 24495, 24524, 46365, 45155, 14554, 49739, 2636, 22382, 10605, 36481, 20079, 40046, 48553, 1040, 12596, 14805, 25096, 40123, 3805, 4289, 24469, 7388, 12014, 12504, 41145, 30398, 1935, 43644, 32427, 15949, 23343, 25143, 29322, 40099, 21571, 14717, 18939, 40105, 19190, 25799, 17293, 653, 6872, 30008, 38917, 17426, 37637, 17902, 5519, 46178, 25129, 41824, 39682, 1798, 26083, 6344, 6137, 11008, 34660, 17237, 8770, 14117, 14771, 47429, 17982, 12575, 31412, 34593, 14940, 14966, 36141, 14017, 7602, 30502, 18347, 3695, 30808, 44961, 3599, 4888, 28952, 47671, 43288, 43249, 2007, 25518, 10024, 43305, 4094, 2456, 48135, 13621, 28675, 6622, 45721, 48200, 41025, 264, 20336, 47109, 5364, 39288, 22775, 1791, 8236, 14959, 13398, 1783, 9131, 32574, 33077, 16009, 16386, 40902, 49288, 26837, 19447, 4626, 15577, 13416, 47472, 35009, 45625, 42507, 21099, 48115, 13113, 32078, 19347, 30044, 15972, 31154, 32375, 34561, 46187, 23842, 25940, 19990, 2117, 48669, 28367, 21749, 2069, 25148, 29364, 40379, 3393, 47748, 30527, 47813, 16977, 6830, 45720, 22693, 26680, 12227, 37836, 41830, 8517, 2632, 1418, 34877, 25957, 20181, 43279, 11200, 1772, 14657, 40079, 20083, 43118, 7228, 8695, 45556, 38291, 10100, 28293, 2509, 30479, 7853, 5114, 38852, 9166, 43888, 49715, 9105, 4042, 44469, 35695, 27048, 37350, 17646, 39399, 47548, 10078, 20732, 5314, 5046, 22530, 15344, 10627, 21895, 38631, 12846, 37673, 9853, 44334, 7326, 248, 5467, 38822, 3498, 28334, 47094, 28005, 18205, 19689, 22945, 15691, 16630, 38555, 23708, 40075, 16101, 26007, 29931, 35652, 40904, 33908, 382, 46071, 8462, 17265, 16241, 41190, 19322, 39865, 23503, 9385, 22977, 1144, 45328, 23655, 6099, 4537, 21633, 25025, 6039, 9433, 40142, 12036, 559, 36938, 17300, 7563, 17101, 5873, 10801, 46291, 20880, 33601, 14138, 47203, 25415, 3786, 12741, 21328, 11148, 36461, 4865, 26389, 49330, 4829, 4999, 33333, 16479, 11406, 37285, 26612, 284, 45149, 35509, 21768, 28239, 31427, 19298, 34297, 5404, 26978, 37940, 41629, 18752, 43989, 6698, 19502, 12401, 48279, 38618, 25379, 46653, 14792, 11722, 38469, 35408, 30140, 9935, 18009, 25212, 36221, 23109, 8854, 49112, 44375, 34298, 48945, 15866, 36466, 25092, 2138, 16377, 11922, 32781, 35225, 40595, 40050, 47068, 14393, 48651, 14269, 2838, 7731, 27381, 19260, 46700, 25575, 33479, 45370, 45600, 11210, 33981, 19126, 46051, 11908, 43077, 9537, 8356, 31507, 39124, 9550, 16699, 32451, 11765, 32314, 17051, 43175, 26569, 42227, 20723, 9164, 18293, 17888, 42382, 36273, 5355, 21614, 31801, 15902, 19786, 16702, 19774, 32749, 42604, 18199, 7123, 25695, 48004, 14918, 11787, 31833, 9983, 21273, 47874, 44048, 8942, 26664, 39996, 26663, 2862, 31440, 29165, 44073, 30450, 14657, 24115, 4074, 12025, 45003, 42078, 23011, 48516, 8875, 6203, 35222, 17351, 29451, 41716, 47517, 15185, 13812, 27422, 30199, 10416, 13238, 34807, 2956, 12914, 46095, 26213, 31694, 42279, 26090, 27263, 39808, 27851, 31038, 26980, 10230, 34534, 24435, 31702, 46626, 14305, 15157, 5563, 12233, 38622, 13701, 4981, 11098, 16260, 9823, 38309, 16169, 22653, 35220, 33669, 361, 49050, 20554, 24079, 17895, 34009, 19058, 18389, 38432, 24991, 2646, 48322, 37322, 37243, 15856, 12519, 3590, 3931, 16274, 16212, 29561, 22786, 41193, 28435, 14675, 11111, 3343, 36668, 48511, 41956, 28326, 21889, 40454, 38445, 12306, 14769, 46954, 14830, 42493, 28827, 44685, 30365, 18822, 47444, 1901, 31111, 32078, 41989, 40748, 31687, 29058, 38570, 19100, 26720, 25256, 42707, 9900, 47514, 16707, 31938, 35408, 35419, 49062, 38885, 25324, 7734, 15157, 28872, 24644, 45012, 734, 42378, 33191, 37599, 37533, 37514, 41836, 26631, 25017, 18025, 4913, 34598, 49089, 46559, 44406, 36804, 41996, 8950, 26732, 31657, 13409, 22442, 26246, 44771, 36331, 34663, 16447, 36562, 44283, 38294, 43286, 23020, 12375, 23581, 38209, 9475, 43449, 23756, 4953, 37791, 110, 26311, 7157, 12817, 47021, 32347, 804, 49961, 34162, 37345, 31691, 5061, 48184, 661, 45612, 13640, 20243, 9676, 22892, 5999, 49467, 5149, 35788, 46264, 41786, 40033, 40378, 23189, 43199, 42565, 35477, 19594, 17925, 17148, 20845, 25696, 34258, 6782, 7901, 7024, 23041, 24847, 12388, 4720, 30587, 6507, 16621, 11795, 33700, 3637, 48867, 19135, 17227, 21374, 21553, 44629, 4841, 423, 4020, 48240, 48169, 40679, 16823, 6234, 23317, 9276, 48886, 42287, 44313, 16233, 9031, 47138, 26375, 44494, 4047, 20844, 30971, 12236, 30603, 40867, 31926, 32834, 1800, 45479, 9006, 32795, 40532, 12589, 49712, 15938, 22202, 3381, 45123, 33649, 41245, 2912, 38611, 32610, 4775, 8085, 8905, 2404, 18400, 38543, 48748, 197, 10110, 28135, 14495, 30263, 17484, 41612, 4688, 40822, 28249, 7515, 46895, 4741, 19482, 34562, 40462, 14760, 33907, 9081, 40101, 35568, 37083, 16714, 43270, 43394, 41316, 10002, 4862, 5383, 12781, 8892, 30649, 8995, 39961, 40048, 20775, 15405, 392, 16311, 15822, 16135, 24301, 17004, 5545, 9563, 47683, 42768, 7020, 41400, 24686, 30539, 3965, 14558, 49866, 25122, 33193, 20148, 32065, 26953, 41967, 21090, 48533, 18952, 45800, 19645, 18301, 12690, 25578, 13924, 14104, 38465, 33811, 28987, 9769, 2459, 20465, 651, 32562, 11573, 33333, 1563, 7442, 21346, 12149, 23181, 14183, 31889, 49777, 37388, 37815, 18557, 42901, 17752, 14376, 30978, 7257, 11991, 4060, 20867, 18342, 15966, 18376, 1101, 3022, 14614, 25287, 37773, 45543, 28323, 41745, 1784, 16216, 22034, 16254, 2759, 40338, 47333, 22989, 23151, 31515, 34865, 42175, 35101, 12098, 36642, 728, 25073, 18522, 38589, 36824, 37013, 7536, 9518, 20288, 32827, 3419, 23286, 41940, 28942, 45962, 44361, 20020, 48644, 27163, 6562, 45439, 917, 1000, 26323, 49060, 15678, 21476, 41666, 30687, 45746, 27171, 43156, 23180, 21548, 28138, 29159, 5547, 43243, 31428, 19415, 714, 27936, 41746, 40503, 36107, 12809, 45733, 15773, 39439, 41127, 43893, 7519, 49548, 5490, 400, 26709, 26947, 21034, 30611, 12960, 34314, 45692, 33772, 44923, 60, 32858, 34253, 18491, 11210, 12358, 24254, 19189, 34492, 9708, 6083, 26771, 2047, 49401, 1175, 1018, 28168, 18454, 38889, 42468, 13245, 49637, 44086, 40368, 33148, 48411, 33521, 6193, 13575, 36697, 16850, 39911, 41073, 27412, 10808, 2011, 33644, 24654, 35592, 38918, 579, 15906, 18328, 23005, 5714, 14703, 8881, 49159, 1885, 49368, 34077, 15960, 24492, 42736, 45997, 19185, 19244, 11724, 46809, 47623, 21475, 27885, 27769, 42930, 19024, 38723, 6742, 25201, 3254, 28974, 39221, 17503, 35089, 25960, 39626, 13470, 22158, 34629, 9498, 6012, 24789, 28642, 21172, 23222, 46872, 49436, 4978, 19265, 9308, 14654, 10858, 39850, 31995, 8332, 19292, 27826, 29599, 1131, 10877, 8082, 48290, 16566, 49857, 49383, 17581, 26766, 18138, 17148, 27292, 4970, 7414, 1658, 29152, 2822, 11130, 28493, 30778, 32615, 46864, 20554, 23041, 31316, 29064, 15305, 13092, 37668, 22966, 5940, 2163, 17976, 48008, 43428, 28462, 11585, 28947, 36748, 41766, 32559, 16732, 34991, 5432, 28648, 7979, 46186, 30317, 32194, 5133, 18388, 14624, 44688, 12845, 3399, 40717, 44765, 29057, 37569, 23855, 18871, 10204, 32243, 8331, 7470, 37473, 15553, 38833, 10382, 48275, 6022, 11473, 29638, 20229, 3388, 15654, 49603, 8466, 6498, 5174, 7160, 6374, 29169, 34605, 22077, 38396, 42441, 48613, 14016, 24319, 34795, 40450, 6054, 24447, 45496, 35734, 10770, 44865, 26601, 33916, 36705, 28923, 43374, 42742, 11368, 4377, 7200, 18274, 19910, 20005, 49542, 35235, 8344, 22446, 23560, 9970, 10579, 29861, 17493, 8608, 9563, 1918, 38894, 9836, 45798, 30424, 37069, 42385, 44363, 18139, 10152, 32622, 12154, 21817, 40932, 41308, 31820, 47184, 29472, 28468, 19019, 11689, 24792, 504, 29813, 3997, 3859, 18997, 44909, 35638, 11009, 5699, 20712, 28677, 24004, 45940, 13571, 46897, 1380, 21620, 39110, 36461, 34253, 25958, 1000, 18352, 32687, 45636, 34874, 11932, 41293, 33898, 30737, 48611, 260, 45619, 36189, 4734, 15380, 25129, 49493, 5662, 8927, 28251, 17270, 22131, 11964, 6781, 30343, 26990, 32808, 25716, 13089, 10470, 39666, 21124, 21210, 26613, 33592, 5112, 13505, 25633, 19939, 11219, 12484, 25155, 35080, 43995, 45423, 28387, 42475, 4986, 19444, 38733, 38686, 12301, 45013, 22183, 780, 39457, 26186, 33209, 30485, 39064, 9254, 18837, 25912, 42455, 13245, 35241, 11760, 8842, 27883, 37999, 9151, 21206, 49484, 13226, 39001, 18181, 36420, 36768, 27378, 39094, 3375, 9226, 5138, 2719, 20494, 29033, 20798, 6817, 30674, 8981, 43556, 46499, 5371, 48668, 20675, 42365, 47164, 47079, 32362, 36292, 3192, 15174, 15298, 3609, 9701, 33885, 45785, 24620, 35856, 34436, 17980, 22907, 16867, 38420, 28859, 48315, 10376, 38021, 25627, 47988, 3973, 14811, 37440, 44469, 22615, 4212, 21441, 9731, 29130, 675, 45505, 14668, 16342, 28698, 6785, 18652, 8805, 41336, 43931, 6302, 1241, 17517, 7282, 2279, 33235, 46560, 48730, 12905, 11983, 40905, 1679, 32349, 10940, 7177, 34450, 2729, 18574, 25745, 31809, 22293, 10310, 14318, 33844, 14600, 31827, 19404, 12232, 42526, 11265, 10117, 25449, 46181, 17576, 8465, 15167, 13358, 30527, 21102, 13474, 11201, 21395, 43441, 18219, 44242, 6014, 21771, 45209, 39717, 47422, 11431, 36174, 30059, 37412, 23999, 2853, 18388, 45114, 17074, 19398, 39278, 18640, 25788, 49071, 7566, 1061, 19811, 38996, 37346, 17586, 21243, 11646, 47979, 5575, 5892, 43424, 31575, 20407, 15342, 42671, 39083, 28868, 6631, 47254, 34745, 26174, 9474, 30501, 24874, 32601, 33834, 24500, 36595, 30567, 22166, 11025, 28508, 34012, 28266, 48427, 37098, 23075, 27408, 5416, 9769, 16443, 47136, 35382, 8091, 48437, 16769, 19085, 35157, 43365, 43497, 42166, 40687, 778, 28896, 31046, 40543, 3405, 18750, 7794, 21495, 31804, 35444, 9957, 16990, 46968, 1323, 15023, 7929, 16546, 45788, 33382, 33824, 22247, 1772, 9895, 8457, 45665, 22228, 15860, 7922, 42730, 2335, 30101, 45262, 454, 31985, 29247, 47797, 1109, 23140, 8341, 22866, 27863, 3350, 8121, 19205, 14546, 42234, 43425, 9195, 35139, 30588, 6841, 43775, 6623, 34180, 15488, 43238, 16262, 37126, 46387, 43995, 14758, 39752, 16024, 41537, 3903, 20046, 35110, 49693, 34687, 37684, 31601, 11380, 40423, 31426, 14513, 36978, 1876, 34888, 33395, 22778, 49567, 4381, 41160, 40140, 5544, 39785, 19124, 6756, 45206, 42864, 42296, 27210, 3589, 15964, 5737, 9973, 1723, 14544, 38654, 9159, 33564, 35749, 40358, 33450, 29253, 4368, 28425, 4381, 7594, 41858, 670, 25152, 24068, 34140, 48974, 32071, 1041, 12092, 24177, 38885, 38959, 13664, 22929, 35868, 47781, 30056, 10112, 37592, 25484, 48162, 14071, 19133, 46306, 2742, 26673, 27716, 46820, 43467, 37732, 3186, 34347, 7957, 30985, 2876, 29455, 25249, 32593, 27831, 46730, 48539, 15147, 16779, 3481, 917, 31861, 21057, 20992, 7740, 29521, 48976, 20204, 35674, 19444, 40769, 17674, 48645, 48980, 22080, 41170, 27436, 3685, 13533, 27546, 25450, 22623, 39890, 4467, 36872, 2613, 32817, 28156, 26340, 1835, 28802, 34392, 28799, 41052, 29132, 23252, 13061, 14014, 12194, 1454, 36268, 7490, 35357, 42163, 8390, 25879, 42247, 7009, 32049, 3827, 11378, 41561, 39916, 22849, 28005, 4178, 9105, 41628, 45720, 34321, 41542, 21421, 6761, 39507, 42254, 4883, 9751, 46219, 43509, 32129, 27904, 7072, 7175, 45, 28471, 6848, 14490, 47513, 33668, 13136, 46238, 26231, 37411, 40296, 42767, 17391, 1842, 39922, 43524, 31006, 34669, 5742, 36027, 18239, 49643, 305, 20113, 25759, 31300, 35820, 40348, 38403, 43514, 13516, 39749, 25328, 5170, 23627, 45893, 9929, 24365, 3301, 31683, 6221, 11370, 474, 24368, 30335, 14, 23081, 41161, 13682, 17396, 6804, 26372, 45460, 33928, 4805, 30301, 33182, 19313, 48062, 11598, 42663, 29878, 34650, 41431, 32435, 12520, 17079, 42075, 675, 37492, 29881, 40885, 11660, 27209, 19266, 6824, 37140, 21995, 430, 13428, 17150, 41890, 18608, 36656, 41957, 11655, 31179, 26497, 3471, 40491, 48440, 38574, 22470, 19007, 30373, 19595, 7165, 16893, 46289, 1518, 49234, 49438, 19010, 6367, 33878, 6684, 24316, 4507, 22355, 19880, 23715, 38238, 13690, 13098, 736, 37672, 29433, 3218, 37672, 42663, 11369, 13125, 9938, 9185, 32158, 19132, 31795, 709, 11736, 32545, 33338, 10572, 46463, 11349, 11917, 22544, 20933, 1194, 44242, 12380, 31201, 33312, 11664, 42070, 5759, 40007, 43415, 46614, 24415, 47497, 21529, 20587, 13908, 35537, 29085, 41740, 6138, 43268, 35369, 6662, 16225, 37223, 9359, 9533, 30039, 31342, 46267, 5255, 45738, 23554, 43505, 49019, 22524, 44516, 43354, 36042, 6864, 6918, 25834, 18030, 34869, 28767, 23208, 10741, 7365, 48281, 4234, 7332, 38420, 40236, 10469, 17111, 25281, 24203, 31257, 44148, 31129, 32124, 28105, 26934, 26115, 19540, 31285, 28000, 45429, 34795, 8915, 22348, 33307, 24772, 7291, 40711, 6534, 24358, 16798, 13097, 43187, 10625, 31224, 6744, 3657, 48977, 41880, 35763, 49264, 46004, 3811, 25094, 35050, 44944, 26829, 25712, 44012, 8842, 17861, 24622, 19689, 3547, 30917, 17360, 28299, 19266, 4002, 35290, 19543, 19408, 5591, 487, 23368, 18879, 48354, 33224, 37466, 4155, 17962, 7958, 26648, 18083, 41560, 31138, 42780, 29838, 49148, 21754, 11092, 37343, 26320, 18759, 40878, 38669, 13172, 46601, 15595, 6471, 18272, 34466, 35026, 19059, 16513, 41189, 26581, 10974, 34171, 43098, 37892, 26590, 26570, 10357, 47036, 25512, 37577, 12409, 27000, 37811, 9619, 16097, 28599, 40777, 27556, 32420, 8959, 14956, 45704, 9054, 2557, 10194, 42025, 48613, 7970, 41297, 47512, 44985, 32072, 2088, 9291, 19106, 13277, 20205, 40506, 5845, 38074, 14761, 7124, 34044, 27077, 49689, 11489, 18542, 9867, 38464, 33261, 21088, 4179, 38560, 25223, 28495, 6967, 12587, 42574, 233, 12938, 42955, 30428, 8859, 23720, 46036, 26181, 12775, 24384, 38538, 33164, 28823, 49100, 32499, 26619, 42920, 33477, 36920, 18015, 34364, 7727, 32020, 35629, 3262, 12111, 15614, 25636, 3217, 33141, 7166, 2932, 32028, 36713, 15044, 23383, 13722, 13043, 8724, 10964, 21746, 9200, 28700, 42515, 14604, 30517, 91, 29270, 25997, 30905, 8636, 19467, 35057, 42311, 46564, 46422, 39009, 35925, 44901, 9818, 27474, 7546, 43330, 8101, 20688, 17842, 14567, 8272, 37422, 27171, 33527, 39237, 7098, 10115, 39940, 25261, 28161, 42866, 11359, 34799, 2558, 25427, 32412, 17396, 2179, 16455, 26033, 24690, 3681, 47519, 38922, 46116, 14194, 9619, 23653, 45946, 154, 33700, 3320, 44108, 10290, 2721, 26141, 45910, 43014, 41822, 28310, 28864, 34297, 46472, 33385, 7746, 16285, 26342, 14326, 26570, 7377, 3038, 4888, 41384, 8397, 9436, 18053, 41886, 25388, 33948, 19424, 21825, 28947, 12720, 8069, 38881, 49218, 47694, 49530, 44290, 26277, 39723, 21483, 48935, 14610, 30275, 42711, 27435, 11720, 44495, 22342, 2709, 13224, 46540, 14008, 45773, 46050, 26245, 22884, 16639, 14580, 5949, 34074, 8696, 42088, 134, 25421, 16519, 2975, 7930, 47159, 5508, 14038, 5379, 38007, 11431, 6626, 24155, 23069, 25764, 9983, 45881, 424, 20779, 8623, 20797, 10997, 29863, 47812, 42316, 33908, 4274, 10689, 2759, 32685, 36338, 42157, 7275, 20417, 35876, 7178, 27305, 41097, 37895, 25492, 26563, 34145, 37642, 13802, 34306, 22227, 2820, 23789, 47333, 40696, 46373, 7920, 29118, 43238, 28068, 10260, 13254, 43341, 39246, 16424, 10017, 15493, 34098, 14031, 27416, 8282, 47113, 30410, 6712, 8830, 5525, 33741, 37637, 4289, 7975]\n"
     ]
    }
   ],
   "source": [
    "#Making a random list that will be of length 5, 10, 15, 100 and 1000, respectively\n",
    "dynamic5 = []\n",
    "for i in range(5):\n",
    "    dynamic5.append(random.randint(0,50000))\n",
    "print(dynamic5)\n",
    "\n",
    "dynamic10 = []\n",
    "for i in range(10):\n",
    "    dynamic10.append(random.randint(0,50000))\n",
    "print(dynamic10)\n",
    "\n",
    "dynamic15 = []\n",
    "for i in range(15):\n",
    "    dynamic15.append(random.randint(0,50000))\n",
    "print(dynamic15)\n",
    "\n",
    "dynamic100 = []\n",
    "for i in range(100):\n",
    "    dynamic100.append(random.randint(0,50000))\n",
    "print(dynamic100)\n",
    "\n",
    "dynamic1000 = []\n",
    "for i in range(1000):\n",
    "    dynamic1000.append(random.randint(0,50000))\n",
    "print(dynamic1000)\n",
    "\n",
    "dynamic10000 = []\n",
    "for i in range(10000):\n",
    "    dynamic10000.append(random.randint(0,50000))\n",
    "print(dynamic10000)"
   ]
  },
  {
   "cell_type": "markdown",
   "metadata": {},
   "source": [
    "### Selection Sort\n",
    "Testing the time taken for selection sort, at lengths of 5, 10, 15, 100, 1000, 10000"
   ]
  },
  {
   "cell_type": "code",
   "execution_count": 100,
   "metadata": {},
   "outputs": [
    {
     "name": "stdout",
     "output_type": "stream",
     "text": [
      "Test of 5 took: 0.00000ms to run\n",
      "Test of 10 took: 0.00000ms to run\n",
      "Test of 15 took: 0.00000ms to run\n",
      "Test of 100 took: 0.00000ms to run\n",
      "Test of 1000 took: 46.87500ms to run\n"
     ]
    },
    {
     "name": "stdout",
     "output_type": "stream",
     "text": [
      "Test of 10000 took: 5218.75000ms to run\n"
     ]
    }
   ],
   "source": [
    "dynamic5Copy = copy.deepcopy(dynamic5)\n",
    "dynamic10Copy = copy.deepcopy(dynamic10)\n",
    "dynamic15Copy = copy.deepcopy(dynamic15)\n",
    "dynamic100Copy = copy.deepcopy(dynamic100)\n",
    "dynamic1000Copy = copy.deepcopy(dynamic1000)\n",
    "dynamic10000Copy = copy.deepcopy(dynamic10000)\n",
    "\n",
    "# LENGTH OF 5\n",
    "startTime5 = time.process_time()\n",
    "selectionSort(dynamic5Copy)\n",
    "timeTaken5 = float((time.process_time() - startTime5)*1000)\n",
    "print(\"Test of 5 took: {:.5f}ms to run\".format(timeTaken5))\n",
    "\n",
    "# LENGTH OF 10\n",
    "startTime10 = time.process_time()\n",
    "selectionSort(dynamic10Copy)\n",
    "timeTaken10 = float((time.process_time() - startTime10)*1000)\n",
    "print(\"Test of 10 took: {:.5f}ms to run\".format(timeTaken10))\n",
    "\n",
    "# LENGTH OF 15\n",
    "startTime15 = time.process_time()\n",
    "selectionSort(dynamic15Copy)\n",
    "timeTaken15 = float((time.process_time() - startTime15)*1000)\n",
    "print(\"Test of 15 took: {:.5f}ms to run\".format(timeTaken15))\n",
    "\n",
    "\n",
    "# LENGTH OF 100\n",
    "startTime100 = time.process_time()\n",
    "selectionSort(dynamic100Copy)\n",
    "timeTaken100 = float((time.process_time() - startTime100)*1000)\n",
    "print(\"Test of 100 took: {:.5f}ms to run\".format(timeTaken100))\n",
    "\n",
    "# LENGTH OF 1000\n",
    "startTime1000 = time.process_time()\n",
    "selectionSort(dynamic1000Copy)\n",
    "timeTaken1000 = float((time.process_time() - startTime1000)*1000)\n",
    "print(\"Test of 1000 took: {:.5f}ms to run\".format(timeTaken1000))\n",
    "\n",
    "# LENGTH OF 10000\n",
    "startTime10000 = time.process_time()\n",
    "selectionSort(dynamic10000Copy)\n",
    "timeTaken10000 = float((time.process_time() - startTime10000)*1000)\n",
    "print(\"Test of 10000 took: {:.5f}ms to run\".format(timeTaken10000))"
   ]
  }
 ],
 "metadata": {
  "kernelspec": {
   "display_name": "Python 3",
   "language": "python",
   "name": "python3"
  },
  "language_info": {
   "codemirror_mode": {
    "name": "ipython",
    "version": 3
   },
   "file_extension": ".py",
   "mimetype": "text/x-python",
   "name": "python",
   "nbconvert_exporter": "python",
   "pygments_lexer": "ipython3",
   "version": "3.11.9"
  }
 },
 "nbformat": 4,
 "nbformat_minor": 2
}
